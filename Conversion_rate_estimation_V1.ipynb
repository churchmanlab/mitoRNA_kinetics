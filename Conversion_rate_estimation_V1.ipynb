{
 "cells": [
  {
   "cell_type": "code",
   "execution_count": 147,
   "metadata": {},
   "outputs": [],
   "source": [
    "# Import \n",
    "import csv \n",
    "import numpy as np                   \n",
    "import pandas as pd \n",
    "\n",
    "import matplotlib.pyplot as plot\n",
    "import matplotlib.patches as mpatches\n",
    "\n",
    "import scipy.stats as stats\n",
    "from scipy.stats import binom"
   ]
  },
  {
   "cell_type": "code",
   "execution_count": 285,
   "metadata": {},
   "outputs": [],
   "source": [
    "## load the T-count distribution from Mary. \n",
    "## This file contains the summary of all the Ts per read in the aligned data set.\n",
    "## E.g. 200 reads has 1 T, 345 reads has 2 Ts in them and so forth\n",
    "TCount_INPUT = 't5MTMMinformed6_withDups_PEfrag_MTall_TcountDistributions.txt'\n",
    "Frequency_INPUT = 't5MTMMinformed6_withDups_PEfrag_MTall_TCconvFreq.txt'"
   ]
  },
  {
   "cell_type": "code",
   "execution_count": 287,
   "metadata": {},
   "outputs": [
    {
     "data": {
      "text/plain": [
       "733453"
      ]
     },
     "execution_count": 287,
     "metadata": {},
     "output_type": "execute_result"
    },
    {
     "data": {
      "image/png": "[encoded data removed]",
      "text/plain": [
       "<Figure size 432x288 with 1 Axes>"
      ]
     },
     "metadata": {
      "needs_background": "light"
     },
     "output_type": "display_data"
    }
   ],
   "source": [
    "# Define time point you're looking at\n",
    "TP = 'AriTC0'\n",
    "## load the T-count distribution from Mary. \n",
    "## This file contains the summary of all the Ts per read in the aligned data set.\n",
    "## E.g. 200 reads has 1 T, 345 reads has 2 Ts in them and so forth\n",
    "df = pd.read_csv(TCount_INPUT ,sep='\\t', header=(0), usecols=['Tcount',TP])\n",
    "\n",
    "#Plot the T-count distribution for the 0 min library\n",
    "fig, ax = plot.subplots()\n",
    "plot.figtext(.5,.9,'Number of Ts per read', fontsize=16, ha='center')\n",
    "ax.set_ylabel('Number of Reads', fontsize=14)\n",
    "ax.set_xlabel('T count', fontsize=14)\n",
    "plot.bar(df['Tcount'],df[TP])\n",
    "\n",
    "sum(df[TP])"
   ]
  },
  {
   "cell_type": "code",
   "execution_count": 288,
   "metadata": {},
   "outputs": [],
   "source": [
    "### Here we make the background model of expected TC conversions given the 0min library T count distribution\n",
    "# and the given conversion rates below\n",
    "\n",
    "Model = []\n",
    "# set the granularity of the rates you want to try\n",
    "num_steps = 4000\n",
    "\n",
    "# set the starting conversion rate (max conversion rate = lowest_rate * num_step )\n",
    "lowest_rate = 0.000005\n",
    "\n",
    "#The first Loop sets the conversion rate we apply to the binomial ditsributions\n",
    "for step in range (0,num_steps): \n",
    "    conver_rate   =  lowest_rate * step\n",
    "    summary = [0]  \n",
    "###The Second Loop calculates the binomial distribution for each bin of Tcounts\n",
    "#Then it multiplies the output with the absolute number of reads in each bin\n",
    "#Finally it sum all of the successes\n",
    "    for num_T in range(0,len(df['Tcount'])):    \n",
    "        # Here we loop over the whole distribution of reads we created above\n",
    "        n, p = df['Tcount'][num_T], conver_rate\n",
    "        rv = binom(n, p)\n",
    "        summary = summary + (df[TP][num_T]* rv.pmf(range(100)))\n",
    "    Model.append(summary)"
   ]
  },
  {
   "cell_type": "code",
   "execution_count": 289,
   "metadata": {},
   "outputs": [
    {
     "data": {
      "text/html": [
       "<div>\n",
       "<style scoped>\n",
       "    .dataframe tbody tr th:only-of-type {\n",
       "        vertical-align: middle;\n",
       "    }\n",
       "\n",
       "    .dataframe tbody tr th {\n",
       "        vertical-align: top;\n",
       "    }\n",
       "\n",
       "    .dataframe thead th {\n",
       "        text-align: right;\n",
       "    }\n",
       "</style>\n",
       "<table border=\"1\" class=\"dataframe\">\n",
       "  <thead>\n",
       "    <tr style=\"text-align: right;\">\n",
       "      <th></th>\n",
       "      <th>TCperRead</th>\n",
       "      <th>AriTC0</th>\n",
       "    </tr>\n",
       "  </thead>\n",
       "  <tbody>\n",
       "    <tr>\n",
       "      <th>0</th>\n",
       "      <td>0</td>\n",
       "      <td>719177</td>\n",
       "    </tr>\n",
       "    <tr>\n",
       "      <th>1</th>\n",
       "      <td>1</td>\n",
       "      <td>14056</td>\n",
       "    </tr>\n",
       "    <tr>\n",
       "      <th>2</th>\n",
       "      <td>2</td>\n",
       "      <td>206</td>\n",
       "    </tr>\n",
       "    <tr>\n",
       "      <th>3</th>\n",
       "      <td>3</td>\n",
       "      <td>14</td>\n",
       "    </tr>\n",
       "    <tr>\n",
       "      <th>4</th>\n",
       "      <td>4</td>\n",
       "      <td>0</td>\n",
       "    </tr>\n",
       "    <tr>\n",
       "      <th>5</th>\n",
       "      <td>5</td>\n",
       "      <td>0</td>\n",
       "    </tr>\n",
       "  </tbody>\n",
       "</table>\n",
       "</div>"
      ],
      "text/plain": [
       "   TCperRead  AriTC0\n",
       "0          0  719177\n",
       "1          1   14056\n",
       "2          2     206\n",
       "3          3      14\n",
       "4          4       0\n",
       "5          5       0"
      ]
     },
     "execution_count": 289,
     "metadata": {},
     "output_type": "execute_result"
    }
   ],
   "source": [
    "## Here we load the file that contains all the MEASURED conversions per read in the aligned data set.\n",
    "#This is the data we want to find match to the binomial distributions we created above to estimate the conversion rate. \n",
    "Freq = pd.read_csv(Frequency_INPUT ,sep='\\t', header=(0), usecols=['TCperRead',TP])\n",
    "Freq"
   ]
  },
  {
   "cell_type": "code",
   "execution_count": 291,
   "metadata": {},
   "outputs": [
    {
     "data": {
      "text/plain": [
       "0.0005600000000000001"
      ]
     },
     "execution_count": 291,
     "metadata": {},
     "output_type": "execute_result"
    }
   ],
   "source": [
    "## observed = is the ratio between reads with 0 and 1 TC conversions in the MEASURED (and backgroun corrected) data\n",
    "observed = Freq[TP][0]/Freq[TP][1]\n",
    "\n",
    "## a = contain the conversion rates we used above\n",
    "a = np.arange(0,(lowest_rate*num_steps), lowest_rate)\n",
    "\n",
    "## b = is the ratio between reads with 0 and 1 TC conversions in the BINOMIAL PDF data\n",
    "data = pd.DataFrame(Model)\n",
    "b = data[0]/data[1]\n",
    "\n",
    "## Here we use the BINOMIAL PDFs to see which one most closely matched the MEASURED data\n",
    "diff = []\n",
    "for r in range(1,len(b)):\n",
    "    diff.append(abs(observed - b[r]))\n",
    "\n",
    "## Here we extract the conversion rate from the BINOMIAL PDF that most closely matched the MEASURED data\n",
    "seed_rate = a[diff.index(min(diff))]\n",
    "seed_rate"
   ]
  },
  {
   "cell_type": "code",
   "execution_count": 292,
   "metadata": {},
   "outputs": [
    {
     "data": {
      "text/plain": [
       "[(3.589335227125048, 0.10627206274679679, 0.005171602201578196),\n",
       " (109.82702318805968, 0.11727046889652115, 0.004630707233657105),\n",
       " (109.82702318805968, 0.11727046889652115, 0.004630707233657105),\n",
       " (109.82702318805968, 0.11727046889652115, 0.004630707233657105),\n",
       " (109.82702318805968, 0.11727046889652115, 0.004630707233657105),\n",
       " (109.82702318805968, 0.11727046889652115, 0.004630707233657105),\n",
       " (109.82702318805968, 0.11727046889652115, 0.004630707233657105),\n",
       " (109.82702318805968, 0.11727046889652115, 0.004630707233657105),\n",
       " (109.82702318805968, 0.11727046889652115, 0.004630707233657105),\n",
       " (109.82702318805968, 0.11727046889652115, 0.004630707233657105)]"
      ]
     },
     "execution_count": 292,
     "metadata": {},
     "output_type": "execute_result"
    }
   ],
   "source": [
    "### This script takes the observed distribution of TC conversions in the 0 min timepoint and try to \n",
    "# explain that distribution using two distinct fraction of reads with two distinct \n",
    "# conversion rates one HIGH and one LOW\n",
    "\n",
    "rates = [seed_rate]\n",
    "fractions = []\n",
    "difference = []\n",
    "\n",
    "### We start the algorithm with the seed rate we got above\n",
    "s = seed_rate \n",
    "\n",
    "## we set the number of times the algorithm can try to find two stable populations explaining the MEASURED data \n",
    "num_tries = 20\n",
    "\n",
    "for num_tries in range(0,num_tries):\n",
    "    summary_low = []\n",
    "    summary_high = []\n",
    "## first we ask if the rate (s) we're applying is the LOW or HIGH rate\n",
    "# if the rate is LOW we estimate how many reads we expect to have 2 or 3 TC conversions\n",
    "# We then subtract that from the Measured number of reads with 2 or 3 conversions\n",
    "# These residual reads we then use to estimate a second HIGHER conversion rate impacting a smaller subset of reads  \n",
    "    if s < 0.0008:\n",
    "# Here we loop over the whole distribution of reads using the conversion rate 's' (which the first time = seed_rate)\n",
    "        summary = [0]   \n",
    "        for i in range(0,len(df['Tcount'])):    \n",
    "            n, p = df['Tcount'][i], s\n",
    "            rv = binom(n, p)\n",
    "            summary = summary + (df[TP][i]* rv.pmf(range(100)))\n",
    "\n",
    "#We store the count numbers from the LOW conversion rate\n",
    "        One_low = summary[1]\n",
    "        Two_low = summary[2]        \n",
    "        Three_low = summary [3]\n",
    "        \n",
    "#Get the residual number of reads with 2 or 3 conversions after subtracting \n",
    "#the reads counts using the LOW conversion rate \n",
    "        ratio_high = (Freq[TP][2]-Two_low) / (Freq[TP][3]-Three_low)\n",
    "\n",
    "#Estimate new HIGH conversion rate\n",
    "        b = data[2]/data[3]\n",
    "        diff = []\n",
    "        for r in range(1,len(b)):\n",
    "            diff.append(abs(ratio_high - b[r]))\n",
    "    \n",
    "        s = a[diff.index(min(diff))]\n",
    "\n",
    "# if the rate is HIGH we estimate how many reads we expect to have 2 or 3 TC conversions\n",
    "# We then subtract that from the Measured number of reads with 2 or 3 conversions\n",
    "# These residual reads we then use to estimate a second HIGHER conversion rate impacting a smaller subset of reads         \n",
    "    else:\n",
    "        summary = [0]   \n",
    "        for i in range(0,len(df['Tcount'])):    \n",
    "# Here we loop over the whole distribution of reads using the conversion rate 's' (when s > 0.001 = HIGH)\n",
    "            n, p = df['Tcount'][i], s\n",
    "            rv = binom(n, p)\n",
    "            summary = summary + (df[TP][i]* rv.pmf(range(100)))\n",
    "\n",
    "#We store the count numbers from the HIGH conversion rate \n",
    "        One_high = summary[1]\n",
    "        Two_high = summary[2]        \n",
    "        Three_high = summary [3]\n",
    "        \n",
    "#Calculate what the subfraction of reads that experience \n",
    "#the HIGH rate (= residual reads/if all reads had the high conversion rate)\n",
    "        frac_high = (Freq[TP][2]-Two_low)/Two_high\n",
    "        \n",
    "# Now that we know the subfraction of reads with HIGH conversion rate we\n",
    "# can calculate what's the number of reads with 1 TC conversions that comes from the reads with HIGH rate\n",
    "        ones = Freq[TP][1]-(One_high*frac_high)\n",
    "        \n",
    "#Correct for the fact that the rate only applies to the LOW subfraction \n",
    "        ones = ones*(1-frac_high)\n",
    "        \n",
    "#Estimate new LOW conversion rate\n",
    "        b = data[1]\n",
    "        diff = []\n",
    "        for r in range(1,len(b)):\n",
    "            diff.append(abs(ones - b[r]))\n",
    "    \n",
    "        s = a[diff.index(min(diff))]\n",
    "\n",
    "### Store all the residual values \n",
    "        difference.append((Freq[TP][1]-((One_high*frac_high) + (One_low*(1-frac_high))),\n",
    "                      Freq[TP][2]-((Two_high*frac_high) + (Two_low*(1-frac_high))),\n",
    "                      Freq[TP][3]-((Three_high*frac_high) + (Three_low*(1-frac_high)))))\n",
    "### Store all estimates of the size of the subfractions\n",
    "        fractions.append(frac_high)\n",
    "\n",
    "### Store all rates estimates o\n",
    "    rates.append(s)\n",
    "    \n",
    "dif = pd.DataFrame(pd.DataFrame(abs(pd.DataFrame(difference)).sum(axis=1).rank()))\n",
    "Min_Res_Run = pd.DataFrame(dif[dif[0]==1].index)\n",
    "\n",
    "difference"
   ]
  },
  {
   "cell_type": "code",
   "execution_count": 293,
   "metadata": {},
   "outputs": [
    {
     "data": {
      "text/plain": [
       "(3.589335227125048, 0.10627206274679679, 0.005171602201578196)"
      ]
     },
     "execution_count": 293,
     "metadata": {},
     "output_type": "execute_result"
    }
   ],
   "source": [
    "### This is the residual values after subtracting the values from the BPF. \n",
    "#These values should match the negative control values in the \"Counts\"-output below\n",
    "difference[Min_Res_Run[0][0]]"
   ]
  },
  {
   "cell_type": "code",
   "execution_count": 294,
   "metadata": {},
   "outputs": [
    {
     "data": {
      "text/plain": [
       "[0.0005600000000000001, 0.01787]"
      ]
     },
     "execution_count": 294,
     "metadata": {},
     "output_type": "execute_result"
    }
   ],
   "source": [
    "### This is the background conversion rate that will be applied to the other time points\n",
    "background_rates = [rates[(Min_Res_Run[0][0]*2)],rates[(Min_Res_Run[0][0]*2)+1]]\n",
    "background_rates"
   ]
  },
  {
   "cell_type": "code",
   "execution_count": 295,
   "metadata": {},
   "outputs": [
    {
     "data": {
      "text/plain": [
       "0.0006901173798380494"
      ]
     },
     "execution_count": 295,
     "metadata": {},
     "output_type": "execute_result"
    }
   ],
   "source": [
    "### This is the fraction of reads impacted by the higher background rate\n",
    "Fraction_high_rate_reads = fractions[Min_Res_Run[0][0]]\n",
    "Fraction_high_rate_reads"
   ]
  },
  {
   "cell_type": "code",
   "execution_count": 296,
   "metadata": {},
   "outputs": [
    {
     "data": {
      "text/html": [
       "<div>\n",
       "<style scoped>\n",
       "    .dataframe tbody tr th:only-of-type {\n",
       "        vertical-align: middle;\n",
       "    }\n",
       "\n",
       "    .dataframe tbody tr th {\n",
       "        vertical-align: top;\n",
       "    }\n",
       "\n",
       "    .dataframe thead th {\n",
       "        text-align: right;\n",
       "    }\n",
       "</style>\n",
       "<table border=\"1\" class=\"dataframe\">\n",
       "  <thead>\n",
       "    <tr style=\"text-align: right;\">\n",
       "      <th></th>\n",
       "      <th>AriTC0</th>\n",
       "      <th>AriTC1</th>\n",
       "      <th>AriTC2</th>\n",
       "      <th>AriTC3</th>\n",
       "      <th>AriTC4</th>\n",
       "      <th>AriTC5</th>\n",
       "    </tr>\n",
       "  </thead>\n",
       "  <tbody>\n",
       "    <tr>\n",
       "      <th>0</th>\n",
       "      <td>3.589335</td>\n",
       "      <td>2603.773413</td>\n",
       "      <td>9042.157513</td>\n",
       "      <td>7409.064521</td>\n",
       "      <td>6408.035378</td>\n",
       "      <td>8992.362215</td>\n",
       "    </tr>\n",
       "    <tr>\n",
       "      <th>1</th>\n",
       "      <td>0.106272</td>\n",
       "      <td>242.109311</td>\n",
       "      <td>1082.114931</td>\n",
       "      <td>1068.113560</td>\n",
       "      <td>1079.113049</td>\n",
       "      <td>1795.117495</td>\n",
       "    </tr>\n",
       "    <tr>\n",
       "      <th>2</th>\n",
       "      <td>0.005172</td>\n",
       "      <td>9.005392</td>\n",
       "      <td>92.005785</td>\n",
       "      <td>82.005691</td>\n",
       "      <td>113.005652</td>\n",
       "      <td>244.005948</td>\n",
       "    </tr>\n",
       "    <tr>\n",
       "      <th>3</th>\n",
       "      <td>-2.544311</td>\n",
       "      <td>-2.544268</td>\n",
       "      <td>1.455811</td>\n",
       "      <td>4.455796</td>\n",
       "      <td>9.455789</td>\n",
       "      <td>21.455842</td>\n",
       "    </tr>\n",
       "    <tr>\n",
       "      <th>4</th>\n",
       "      <td>-0.427876</td>\n",
       "      <td>-0.427869</td>\n",
       "      <td>1.572147</td>\n",
       "      <td>-0.427855</td>\n",
       "      <td>-0.427856</td>\n",
       "      <td>2.572152</td>\n",
       "    </tr>\n",
       "  </tbody>\n",
       "</table>\n",
       "</div>"
      ],
      "text/plain": [
       "     AriTC0       AriTC1       AriTC2       AriTC3       AriTC4       AriTC5\n",
       "0  3.589335  2603.773413  9042.157513  7409.064521  6408.035378  8992.362215\n",
       "1  0.106272   242.109311  1082.114931  1068.113560  1079.113049  1795.117495\n",
       "2  0.005172     9.005392    92.005785    82.005691   113.005652   244.005948\n",
       "3 -2.544311    -2.544268     1.455811     4.455796     9.455789    21.455842\n",
       "4 -0.427876    -0.427869     1.572147    -0.427855    -0.427856     2.572152"
      ]
     },
     "execution_count": 296,
     "metadata": {},
     "output_type": "execute_result"
    }
   ],
   "source": [
    "### Here we background correct the MEASURED data based on our background conversion rate estimates \n",
    "Columns = []\n",
    "Counts = []\n",
    "## Get T-count and MEASURED values for time point\n",
    "df_c = pd.read_csv(TCount_INPUT ,sep='\\t',header=(0))\n",
    "Freq_c = pd.read_csv(Frequency_INPUT ,sep='\\t', header=(0))\n",
    "\n",
    "#Time point to be corrected\n",
    "\n",
    "for c in range(1,len(pd.DataFrame(df_c).columns)):\n",
    "    c_TP = pd.DataFrame(df_c).columns[c]\n",
    "    summary = [0]   \n",
    "    for i in range(0,len(df_c['Tcount'])):    \n",
    "        n, p = df_c['Tcount'][i], background_rates[1]\n",
    "        rv = binom(n, p)\n",
    "        summary = summary + (df_c[c_TP][i]* rv.pmf(range(100)))\n",
    "        HIGH_counts = summary*Fraction_high_rate_reads\n",
    "\n",
    "    summary = [0]   \n",
    "    for i in range(0,len(df_c['Tcount'])):    \n",
    "        n, p = df_c['Tcount'][i], background_rates[0]\n",
    "        rv = binom(n, p)\n",
    "        summary = summary + (df_c[c_TP][i]* rv.pmf(range(100)))\n",
    "        LOW_counts = summary*(1-Fraction_high_rate_reads)\n",
    "\n",
    "    Columns.append(c_TP)\n",
    "    Counts.append((Freq_c[c_TP][1]-(HIGH_counts + LOW_counts)[1],Freq_c[c_TP][2]-(HIGH_counts + LOW_counts)[2],\n",
    "                 Freq_c[c_TP][3]-(HIGH_counts + LOW_counts)[3],Freq_c[c_TP][4]-(HIGH_counts + LOW_counts)[4],\n",
    "                  Freq_c[c_TP][5]-(HIGH_counts + LOW_counts)[5]))\n",
    "col = pd.Series(Columns)\n",
    "Counts = pd.DataFrame(np.transpose(Counts)).rename(columns=col)\n",
    "\n",
    "Counts"
   ]
  },
  {
   "cell_type": "code",
   "execution_count": 303,
   "metadata": {},
   "outputs": [
    {
     "data": {
      "text/plain": [
       "733406"
      ]
     },
     "execution_count": 303,
     "metadata": {},
     "output_type": "execute_result"
    },
    {
     "data": {
      "image/png": "[encoded data removed]",
      "text/plain": [
       "<Figure size 432x288 with 1 Axes>"
      ]
     },
     "metadata": {
      "needs_background": "light"
     },
     "output_type": "display_data"
    }
   ],
   "source": [
    "# Define time point you're looking at\n",
    "TP = 'AriTC5'\n",
    "## load the T-count distribution from Mary. \n",
    "## This file contains the summary of all the Ts per read in the aligned data set.\n",
    "## E.g. 200 reads has 1 T, 345 reads has 2 Ts in them and so forth\n",
    "df = pd.read_csv(TCount_INPUT ,sep='\\t', header=(0), usecols=['Tcount',TP])\n",
    "\n",
    "#Plot the T-count distribution for the 0 min library\n",
    "fig, ax = plot.subplots()\n",
    "plot.figtext(.5,.9,'Number of Ts per read', fontsize=16, ha='center')\n",
    "ax.set_ylabel('Number of Reads', fontsize=14)\n",
    "ax.set_xlabel('T count', fontsize=14)\n",
    "\n",
    "plot.bar(df['Tcount'],df[TP])\n",
    "\n",
    "sum(df[TP])"
   ]
  },
  {
   "cell_type": "code",
   "execution_count": 304,
   "metadata": {},
   "outputs": [],
   "source": [
    "All = []\n",
    "# set the granularity of the rates you want to try\n",
    "num_steps = 2000\n",
    "\n",
    "# set the starting conversion rate (max conversion rate = lowest_rate * num_step )\n",
    "lowest_rate = 0.00001\n",
    "\n",
    "#The first Loop sets the conversion rate we apply to the binomial ditsributions\n",
    "for step in range (0,num_steps): \n",
    "    conver_rate   =  lowest_rate * step\n",
    "    summary = [0]  \n",
    "###The Second Loop calculates the binomial distribution for each bin of Tcounts\n",
    "#Then it multiplies the output with the absolute number of reads in each bin\n",
    "#Finally it sum all of the successes\n",
    "    for num_T in range(0,len(df['Tcount'])):    \n",
    "        # Here we loop over the whole distribution of reads we created above\n",
    "        n, p = df['Tcount'][num_T], conver_rate\n",
    "        rv = binom(n, p)\n",
    "        summary = summary + (df[TP][num_T]* rv.pmf(range(100)))\n",
    "    All.append(summary)"
   ]
  },
  {
   "cell_type": "code",
   "execution_count": 305,
   "metadata": {},
   "outputs": [
    {
     "data": {
      "text/html": [
       "<div>\n",
       "<style scoped>\n",
       "    .dataframe tbody tr th:only-of-type {\n",
       "        vertical-align: middle;\n",
       "    }\n",
       "\n",
       "    .dataframe tbody tr th {\n",
       "        vertical-align: top;\n",
       "    }\n",
       "\n",
       "    .dataframe thead th {\n",
       "        text-align: right;\n",
       "    }\n",
       "</style>\n",
       "<table border=\"1\" class=\"dataframe\">\n",
       "  <thead>\n",
       "    <tr style=\"text-align: right;\">\n",
       "      <th></th>\n",
       "      <th>0</th>\n",
       "    </tr>\n",
       "  </thead>\n",
       "  <tbody>\n",
       "    <tr>\n",
       "      <th>0</th>\n",
       "      <td>0.00919</td>\n",
       "    </tr>\n",
       "  </tbody>\n",
       "</table>\n",
       "</div>"
      ],
      "text/plain": [
       "         0\n",
       "0  0.00919"
      ]
     },
     "execution_count": 305,
     "metadata": {},
     "output_type": "execute_result"
    }
   ],
   "source": [
    "### Here we estimate which Binomial PDF best fit the measured distribution\n",
    "Mod_Res = []\n",
    "\n",
    "## I found that it's better to only use the values that are above a certain threshold\n",
    "if Counts[TP][3] < 5:\n",
    "    for u in range(1,len(All)):\n",
    "        Mod_Res.append(abs(Counts[TP][1] - All[u][2]/(All[u][1]/Counts[TP][0]))/Counts[TP][1] +\n",
    "                       abs(Counts[TP][2] - All[u][3]/(All[u][1]/Counts[TP][0]))/Counts[TP][2] )\n",
    "else:    \n",
    "    for u in range(1,len(All)):\n",
    "        Mod_Res.append(abs(Counts[TP][1] - All[u][2]/(All[u][1]/Counts[TP][0]))/Counts[TP][1] +\n",
    "                       abs(Counts[TP][2] - All[u][3]/(All[u][1]/Counts[TP][0]))/Counts[TP][2] +\n",
    "                       abs(Counts[TP][3] - All[u][4]/(All[u][1]/Counts[TP][0]))/Counts[TP][3])\n",
    "\n",
    "dif = pd.DataFrame(pd.DataFrame(abs(pd.DataFrame(Mod_Res)).sum(axis=1).rank()))\n",
    "pd.DataFrame(dif[dif[0]==1].index)*lowest_rate\n",
    "### This is the estimated conversion rate:"
   ]
  },
  {
   "cell_type": "code",
   "execution_count": 307,
   "metadata": {},
   "outputs": [
    {
     "data": {
      "image/png": "[encoded data removed]",
      "text/plain": [
       "<Figure size 432x288 with 1 Axes>"
      ]
     },
     "metadata": {
      "needs_background": "light"
     },
     "output_type": "display_data"
    }
   ],
   "source": [
    "### This is so one can visualiy inspect the best matching PDF\n",
    "y = Counts[TP][0:4]\n",
    "z = All[int(dif[dif[0]==1].index.values)][1:5]/(All[int(dif[dif[0]==1].index.values)][1]/Counts[TP][0])\n",
    "\n",
    "ax = plot.subplot(111)\n",
    "ax.bar([0.85,1.85,2.85,3.85], np.log2(z), width=0.2, color='b', align='center')\n",
    "ax.bar([1.15,2.15,3.15,4.15], np.log2(y), width=0.2, color='g', align='center')\n",
    "\n",
    "plot.figtext(.5,.9,'Best Match', fontsize=16, ha='center')\n",
    "ax.set_ylabel('Read Count [Log2]', fontsize=14)\n",
    "ax.set_xlabel('T to C conversion per read', fontsize=14)\n",
    "\n",
    "blue_patch = mpatches.Patch(color='blue', label= 'Binomial' )\n",
    "green_patch = mpatches.Patch(color='green', label= TP)\n",
    "plot.legend(handles=[blue_patch, green_patch], fontsize=14)\n",
    "\n",
    "plot.show()"
   ]
  },
  {
   "cell_type": "code",
   "execution_count": 308,
   "metadata": {},
   "outputs": [
    {
     "data": {
      "image/png": "[encoded data removed]",
      "text/plain": [
       "<Figure size 576x576 with 1 Axes>"
      ]
     },
     "metadata": {
      "needs_background": "light"
     },
     "output_type": "display_data"
    }
   ],
   "source": [
    "### This is not part of the actuall script but can be used tocheck your output while running the example input files \n",
    "\n",
    "Weighted = [0.0035, 0.00607,0.00633,0.00779,0.00919]\n",
    "Ari = [0.00349, 0.00502,0.00605,0.00746,0.0091]\n",
    "\n",
    "fig, ax = plot.subplots(figsize=(8,8))\n",
    "plot.ylim(0.002, 0.012) \n",
    "plot.xlim(0.002, 0.012) \n",
    "\n",
    "x = np.linspace(-10,0.02,100)\n",
    "y = x\n",
    "plot.plot(y,x, 'grey')\n",
    "\n",
    "plot.scatter(Ari,Weighted, s=150)\n",
    "\n",
    "ax.set_ylabel('Estimated', fontsize=18)\n",
    "ax.set_xlabel('Mary Input Rates', fontsize=18)\n",
    "plot.figtext(.5,.9,'Benchmarking Rate Estimates', fontsize=24, ha='center')\n",
    "\n",
    "plot.show()"
   ]
  },
  {
   "cell_type": "code",
   "execution_count": null,
   "metadata": {},
   "outputs": [],
   "source": []
  }
 ],
 "metadata": {
  "kernelspec": {
   "display_name": "Python 3",
   "language": "python",
   "name": "python3"
  },
  "language_info": {
   "codemirror_mode": {
    "name": "ipython",
    "version": 3
   },
   "file_extension": ".py",
   "mimetype": "text/x-python",
   "name": "python",
   "nbconvert_exporter": "python",
   "pygments_lexer": "ipython3",
   "version": "3.8.3"
  }
 },
 "nbformat": 4,
 "nbformat_minor": 4
}
