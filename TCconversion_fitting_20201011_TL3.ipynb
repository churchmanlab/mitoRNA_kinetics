{
 "cells": [
  {
   "cell_type": "markdown",
   "metadata": {},
   "source": [
    "## RNA decay fitting of models\n",
    "Author: Robert Ietswaart, 20200813\n",
    "License: BSD2.  \n",
    "Load modules j3dl and activate virtual environment using j4RNAdecay on O2.\n",
    "Python v3.7.4, pytorch v1.4 \n",
    "\n",
    "For Erik's project: perform kin/kout fitting of TC conversion rates at early time point from later time points."
   ]
  },
  {
   "cell_type": "code",
   "execution_count": 14,
   "metadata": {},
   "outputs": [],
   "source": [
    "import os\n",
    "import pandas as pd\n",
    "import numpy as np\n",
    "import math\n",
    "import matplotlib.pyplot as plt\n",
    "plt.rcParams['pdf.fonttype'] = 42\n",
    "plt.rcParams['ps.fonttype'] = 42\n",
    "import seaborn as sns\n",
    "from scipy.optimize import least_squares\n",
    "from scipy.stats import beta\n",
    "import new_total_ratio as ntr\n",
    "import aic"
   ]
  },
  {
   "cell_type": "code",
   "execution_count": 96,
   "metadata": {},
   "outputs": [],
   "source": [
    "#TL2: Calibration curves: 20200813\n",
    "# path = os.path.join('/n','groups','churchman','ri23','RNAdecay')\n",
    "# filename = 'Timelapse_CAL_MMinformed4_lenient.binomEstimated.tsv' #'Timelapse_CAL_MMinformed4_lenient.binomOverlapEstimated.tsv'\n",
    "\n",
    "##TL3: 20201011: 50uM concentration experiment\n",
    "path = os.path.join('/n','groups','churchman','mc348','TimelapseSeq','Hela_2020_09',\n",
    "                    'GS_TL3_MMinformed4_lenient_modeAll')\n",
    "filename = 'TL3_MMinformed4_lenient_modeAll.binomEstimated.tsv'\n",
    "TC_all = pd.read_csv(os.path.join(path,filename), sep='\\t')\n",
    "\n",
    "#TL2 MT\n",
    "# filename = 'Timelapse1_MTall_MMinformed4_lenient.binomEstimated.tsv' #'Timelapse1_MTall_MMinformed4_lenient.binomOverlapEstimated.tsv'\n",
    "#TL3 MT\n",
    "path = os.path.join('/n','groups','churchman','mc348','TimelapseSeq','Hela_2020_09',\n",
    "                    'GS_TL3_MT_MMinformed4_lenient_modeAll')\n",
    "filename = 'TL3_MT_MMinformed4_lenient_modeAll.binomEstimated.tsv'\n",
    "\n",
    "TC_MT = pd.read_csv(os.path.join(path,filename), sep='\\t') "
   ]
  },
  {
   "cell_type": "code",
   "execution_count": 16,
   "metadata": {},
   "outputs": [
    {
     "data": {
      "text/html": [
       "<div>\n",
       "<style scoped>\n",
       "    .dataframe tbody tr th:only-of-type {\n",
       "        vertical-align: middle;\n",
       "    }\n",
       "\n",
       "    .dataframe tbody tr th {\n",
       "        vertical-align: top;\n",
       "    }\n",
       "\n",
       "    .dataframe thead th {\n",
       "        text-align: right;\n",
       "    }\n",
       "</style>\n",
       "<table border=\"1\" class=\"dataframe\">\n",
       "  <thead>\n",
       "    <tr style=\"text-align: right;\">\n",
       "      <th></th>\n",
       "      <th>Condition</th>\n",
       "      <th>conv_old</th>\n",
       "      <th>conv_new</th>\n",
       "      <th>p_new_lower</th>\n",
       "      <th>p_new</th>\n",
       "      <th>p_new_upper</th>\n",
       "      <th>Status</th>\n",
       "    </tr>\n",
       "  </thead>\n",
       "  <tbody>\n",
       "    <tr>\n",
       "      <th>0</th>\n",
       "      <td>TL3_no4sU</td>\n",
       "      <td>0.001841</td>\n",
       "      <td>0.077487</td>\n",
       "      <td>0.003896</td>\n",
       "      <td>0.004051</td>\n",
       "      <td>0.004208</td>\n",
       "      <td>Too few</td>\n",
       "    </tr>\n",
       "    <tr>\n",
       "      <th>1</th>\n",
       "      <td>TL3_0m</td>\n",
       "      <td>0.001841</td>\n",
       "      <td>0.077487</td>\n",
       "      <td>0.003896</td>\n",
       "      <td>0.004051</td>\n",
       "      <td>0.004208</td>\n",
       "      <td>Too few</td>\n",
       "    </tr>\n",
       "    <tr>\n",
       "      <th>2</th>\n",
       "      <td>TL3_7m</td>\n",
       "      <td>0.001831</td>\n",
       "      <td>0.092128</td>\n",
       "      <td>0.005647</td>\n",
       "      <td>0.005818</td>\n",
       "      <td>0.005992</td>\n",
       "      <td>Too few</td>\n",
       "    </tr>\n",
       "    <tr>\n",
       "      <th>3</th>\n",
       "      <td>TL3_15m</td>\n",
       "      <td>0.001866</td>\n",
       "      <td>0.054846</td>\n",
       "      <td>0.007994</td>\n",
       "      <td>0.008177</td>\n",
       "      <td>0.008361</td>\n",
       "      <td>Too few</td>\n",
       "    </tr>\n",
       "    <tr>\n",
       "      <th>4</th>\n",
       "      <td>TL3_30m</td>\n",
       "      <td>0.001991</td>\n",
       "      <td>0.026067</td>\n",
       "      <td>0.050030</td>\n",
       "      <td>0.050574</td>\n",
       "      <td>0.051118</td>\n",
       "      <td>Ok</td>\n",
       "    </tr>\n",
       "    <tr>\n",
       "      <th>5</th>\n",
       "      <td>TL3_45m</td>\n",
       "      <td>0.001912</td>\n",
       "      <td>0.030324</td>\n",
       "      <td>0.090088</td>\n",
       "      <td>0.090652</td>\n",
       "      <td>0.091212</td>\n",
       "      <td>Ok</td>\n",
       "    </tr>\n",
       "    <tr>\n",
       "      <th>6</th>\n",
       "      <td>TL3_60m</td>\n",
       "      <td>0.001831</td>\n",
       "      <td>0.030753</td>\n",
       "      <td>0.139840</td>\n",
       "      <td>0.140510</td>\n",
       "      <td>0.141170</td>\n",
       "      <td>Ok</td>\n",
       "    </tr>\n",
       "    <tr>\n",
       "      <th>7</th>\n",
       "      <td>TL3_90m</td>\n",
       "      <td>0.001855</td>\n",
       "      <td>0.032610</td>\n",
       "      <td>0.195010</td>\n",
       "      <td>0.195730</td>\n",
       "      <td>0.196430</td>\n",
       "      <td>Ok</td>\n",
       "    </tr>\n",
       "    <tr>\n",
       "      <th>8</th>\n",
       "      <td>TL3_120m</td>\n",
       "      <td>0.001982</td>\n",
       "      <td>0.033186</td>\n",
       "      <td>0.254650</td>\n",
       "      <td>0.255690</td>\n",
       "      <td>0.256710</td>\n",
       "      <td>Ok</td>\n",
       "    </tr>\n",
       "    <tr>\n",
       "      <th>9</th>\n",
       "      <td>TL3_240m</td>\n",
       "      <td>0.001887</td>\n",
       "      <td>0.033902</td>\n",
       "      <td>0.448920</td>\n",
       "      <td>0.449910</td>\n",
       "      <td>0.450870</td>\n",
       "      <td>Ok</td>\n",
       "    </tr>\n",
       "    <tr>\n",
       "      <th>10</th>\n",
       "      <td>TL3_0m_noC</td>\n",
       "      <td>0.001764</td>\n",
       "      <td>0.103300</td>\n",
       "      <td>0.002270</td>\n",
       "      <td>0.002334</td>\n",
       "      <td>0.002399</td>\n",
       "      <td>Too few</td>\n",
       "    </tr>\n",
       "    <tr>\n",
       "      <th>11</th>\n",
       "      <td>TL3_120m_noC</td>\n",
       "      <td>0.001853</td>\n",
       "      <td>0.090645</td>\n",
       "      <td>0.002664</td>\n",
       "      <td>0.002748</td>\n",
       "      <td>0.002834</td>\n",
       "      <td>Too few</td>\n",
       "    </tr>\n",
       "    <tr>\n",
       "      <th>12</th>\n",
       "      <td>TL3_240m_noC</td>\n",
       "      <td>0.001734</td>\n",
       "      <td>0.076250</td>\n",
       "      <td>0.002266</td>\n",
       "      <td>0.002372</td>\n",
       "      <td>0.002480</td>\n",
       "      <td>Too few</td>\n",
       "    </tr>\n",
       "  </tbody>\n",
       "</table>\n",
       "</div>"
      ],
      "text/plain": [
       "       Condition  conv_old  conv_new  p_new_lower     p_new  p_new_upper  \\\n",
       "0      TL3_no4sU  0.001841  0.077487     0.003896  0.004051     0.004208   \n",
       "1         TL3_0m  0.001841  0.077487     0.003896  0.004051     0.004208   \n",
       "2         TL3_7m  0.001831  0.092128     0.005647  0.005818     0.005992   \n",
       "3        TL3_15m  0.001866  0.054846     0.007994  0.008177     0.008361   \n",
       "4        TL3_30m  0.001991  0.026067     0.050030  0.050574     0.051118   \n",
       "5        TL3_45m  0.001912  0.030324     0.090088  0.090652     0.091212   \n",
       "6        TL3_60m  0.001831  0.030753     0.139840  0.140510     0.141170   \n",
       "7        TL3_90m  0.001855  0.032610     0.195010  0.195730     0.196430   \n",
       "8       TL3_120m  0.001982  0.033186     0.254650  0.255690     0.256710   \n",
       "9       TL3_240m  0.001887  0.033902     0.448920  0.449910     0.450870   \n",
       "10    TL3_0m_noC  0.001764  0.103300     0.002270  0.002334     0.002399   \n",
       "11  TL3_120m_noC  0.001853  0.090645     0.002664  0.002748     0.002834   \n",
       "12  TL3_240m_noC  0.001734  0.076250     0.002266  0.002372     0.002480   \n",
       "\n",
       "     Status  \n",
       "0   Too few  \n",
       "1   Too few  \n",
       "2   Too few  \n",
       "3   Too few  \n",
       "4        Ok  \n",
       "5        Ok  \n",
       "6        Ok  \n",
       "7        Ok  \n",
       "8        Ok  \n",
       "9        Ok  \n",
       "10  Too few  \n",
       "11  Too few  \n",
       "12  Too few  "
      ]
     },
     "execution_count": 16,
     "metadata": {},
     "output_type": "execute_result"
    }
   ],
   "source": [
    "TC_all#.head()\n",
    "# TC.columns"
   ]
  },
  {
   "cell_type": "code",
   "execution_count": 17,
   "metadata": {},
   "outputs": [
    {
     "data": {
      "text/html": [
       "<div>\n",
       "<style scoped>\n",
       "    .dataframe tbody tr th:only-of-type {\n",
       "        vertical-align: middle;\n",
       "    }\n",
       "\n",
       "    .dataframe tbody tr th {\n",
       "        vertical-align: top;\n",
       "    }\n",
       "\n",
       "    .dataframe thead th {\n",
       "        text-align: right;\n",
       "    }\n",
       "</style>\n",
       "<table border=\"1\" class=\"dataframe\">\n",
       "  <thead>\n",
       "    <tr style=\"text-align: right;\">\n",
       "      <th></th>\n",
       "      <th>Condition</th>\n",
       "      <th>conv_old</th>\n",
       "      <th>conv_new</th>\n",
       "      <th>p_new_lower</th>\n",
       "      <th>p_new</th>\n",
       "      <th>p_new_upper</th>\n",
       "      <th>Status</th>\n",
       "    </tr>\n",
       "  </thead>\n",
       "  <tbody>\n",
       "    <tr>\n",
       "      <th>0</th>\n",
       "      <td>TL3_no4sU</td>\n",
       "      <td>0.001292</td>\n",
       "      <td>0.022061</td>\n",
       "      <td>0.025471</td>\n",
       "      <td>0.027612</td>\n",
       "      <td>0.029827</td>\n",
       "      <td>Too few</td>\n",
       "    </tr>\n",
       "    <tr>\n",
       "      <th>1</th>\n",
       "      <td>TL3_0m</td>\n",
       "      <td>0.001292</td>\n",
       "      <td>0.022061</td>\n",
       "      <td>0.025471</td>\n",
       "      <td>0.027612</td>\n",
       "      <td>0.029827</td>\n",
       "      <td>Too few</td>\n",
       "    </tr>\n",
       "    <tr>\n",
       "      <th>2</th>\n",
       "      <td>TL3_7m</td>\n",
       "      <td>0.001278</td>\n",
       "      <td>0.026563</td>\n",
       "      <td>0.033198</td>\n",
       "      <td>0.035012</td>\n",
       "      <td>0.036870</td>\n",
       "      <td>Too few</td>\n",
       "    </tr>\n",
       "    <tr>\n",
       "      <th>3</th>\n",
       "      <td>TL3_15m</td>\n",
       "      <td>0.001353</td>\n",
       "      <td>0.037123</td>\n",
       "      <td>0.023336</td>\n",
       "      <td>0.024252</td>\n",
       "      <td>0.025183</td>\n",
       "      <td>Too few</td>\n",
       "    </tr>\n",
       "    <tr>\n",
       "      <th>4</th>\n",
       "      <td>TL3_30m</td>\n",
       "      <td>0.001431</td>\n",
       "      <td>0.026132</td>\n",
       "      <td>0.038753</td>\n",
       "      <td>0.040122</td>\n",
       "      <td>0.041510</td>\n",
       "      <td>Too few</td>\n",
       "    </tr>\n",
       "    <tr>\n",
       "      <th>5</th>\n",
       "      <td>TL3_45m</td>\n",
       "      <td>0.001369</td>\n",
       "      <td>0.036700</td>\n",
       "      <td>0.033326</td>\n",
       "      <td>0.034331</td>\n",
       "      <td>0.035348</td>\n",
       "      <td>Too few</td>\n",
       "    </tr>\n",
       "    <tr>\n",
       "      <th>6</th>\n",
       "      <td>TL3_60m</td>\n",
       "      <td>0.001331</td>\n",
       "      <td>0.021943</td>\n",
       "      <td>0.065564</td>\n",
       "      <td>0.067328</td>\n",
       "      <td>0.069108</td>\n",
       "      <td>Too few</td>\n",
       "    </tr>\n",
       "    <tr>\n",
       "      <th>7</th>\n",
       "      <td>TL3_90m</td>\n",
       "      <td>0.001315</td>\n",
       "      <td>0.031284</td>\n",
       "      <td>0.057736</td>\n",
       "      <td>0.059069</td>\n",
       "      <td>0.060413</td>\n",
       "      <td>Too few</td>\n",
       "    </tr>\n",
       "    <tr>\n",
       "      <th>8</th>\n",
       "      <td>TL3_120m</td>\n",
       "      <td>0.001377</td>\n",
       "      <td>0.026513</td>\n",
       "      <td>0.084331</td>\n",
       "      <td>0.086525</td>\n",
       "      <td>0.088736</td>\n",
       "      <td>Too few</td>\n",
       "    </tr>\n",
       "    <tr>\n",
       "      <th>9</th>\n",
       "      <td>TL3_240m</td>\n",
       "      <td>0.001318</td>\n",
       "      <td>0.013988</td>\n",
       "      <td>0.248900</td>\n",
       "      <td>0.252790</td>\n",
       "      <td>0.256670</td>\n",
       "      <td>Too few</td>\n",
       "    </tr>\n",
       "    <tr>\n",
       "      <th>10</th>\n",
       "      <td>TL3_0m_noC</td>\n",
       "      <td>0.001267</td>\n",
       "      <td>0.026047</td>\n",
       "      <td>0.024406</td>\n",
       "      <td>0.025530</td>\n",
       "      <td>0.026675</td>\n",
       "      <td>Too few</td>\n",
       "    </tr>\n",
       "    <tr>\n",
       "      <th>11</th>\n",
       "      <td>TL3_120m_noC</td>\n",
       "      <td>0.001365</td>\n",
       "      <td>0.067157</td>\n",
       "      <td>0.013412</td>\n",
       "      <td>0.014062</td>\n",
       "      <td>0.014726</td>\n",
       "      <td>Too few</td>\n",
       "    </tr>\n",
       "    <tr>\n",
       "      <th>12</th>\n",
       "      <td>TL3_240m_noC</td>\n",
       "      <td>0.001332</td>\n",
       "      <td>0.035431</td>\n",
       "      <td>0.028957</td>\n",
       "      <td>0.030459</td>\n",
       "      <td>0.031992</td>\n",
       "      <td>Too few</td>\n",
       "    </tr>\n",
       "  </tbody>\n",
       "</table>\n",
       "</div>"
      ],
      "text/plain": [
       "       Condition  conv_old  conv_new  p_new_lower     p_new  p_new_upper  \\\n",
       "0      TL3_no4sU  0.001292  0.022061     0.025471  0.027612     0.029827   \n",
       "1         TL3_0m  0.001292  0.022061     0.025471  0.027612     0.029827   \n",
       "2         TL3_7m  0.001278  0.026563     0.033198  0.035012     0.036870   \n",
       "3        TL3_15m  0.001353  0.037123     0.023336  0.024252     0.025183   \n",
       "4        TL3_30m  0.001431  0.026132     0.038753  0.040122     0.041510   \n",
       "5        TL3_45m  0.001369  0.036700     0.033326  0.034331     0.035348   \n",
       "6        TL3_60m  0.001331  0.021943     0.065564  0.067328     0.069108   \n",
       "7        TL3_90m  0.001315  0.031284     0.057736  0.059069     0.060413   \n",
       "8       TL3_120m  0.001377  0.026513     0.084331  0.086525     0.088736   \n",
       "9       TL3_240m  0.001318  0.013988     0.248900  0.252790     0.256670   \n",
       "10    TL3_0m_noC  0.001267  0.026047     0.024406  0.025530     0.026675   \n",
       "11  TL3_120m_noC  0.001365  0.067157     0.013412  0.014062     0.014726   \n",
       "12  TL3_240m_noC  0.001332  0.035431     0.028957  0.030459     0.031992   \n",
       "\n",
       "     Status  \n",
       "0   Too few  \n",
       "1   Too few  \n",
       "2   Too few  \n",
       "3   Too few  \n",
       "4   Too few  \n",
       "5   Too few  \n",
       "6   Too few  \n",
       "7   Too few  \n",
       "8   Too few  \n",
       "9   Too few  \n",
       "10  Too few  \n",
       "11  Too few  \n",
       "12  Too few  "
      ]
     },
     "execution_count": 17,
     "metadata": {},
     "output_type": "execute_result"
    }
   ],
   "source": [
    "TC_MT#.head()\n",
    "# TC.columns"
   ]
  },
  {
   "cell_type": "code",
   "execution_count": 66,
   "metadata": {},
   "outputs": [],
   "source": [
    "# #TL2\n",
    "# time0 = [15,30,60,120,240] #15min is only used for all, not MT fitting\n",
    "\n",
    "#TL3:\n",
    "time0 = pd.Series([7,15,30,45,60,90,120,240]) #only 7, 15min is only used for all, not MT fitting: see below\n",
    "\n",
    "# time_measured_all = pd.Series(time0)\n",
    "# time_measured_MT = pd.Series(time0)"
   ]
  },
  {
   "cell_type": "code",
   "execution_count": null,
   "metadata": {},
   "outputs": [],
   "source": []
  },
  {
   "cell_type": "code",
   "execution_count": 67,
   "metadata": {},
   "outputs": [],
   "source": [
    "conds_all = ['TL3_'+str(t)+'m' for t in time0]\n",
    "TC_all_obs = TC_all[TC_all['Status']=='Ok']\n",
    "TC_all_obs = TC_all_obs[TC_all_obs['Condition'].isin(conds_all)]\n",
    "time_measured_all = [t.replace('TL3_','') for t in TC_all_obs['Condition']]\n",
    "time_measured_all = pd.Series([float(t.replace('m','')) for t in time_measured_all])\n",
    "TC_all_obs = TC_all_obs['conv_new']\n",
    "TC_all_obs.reset_index(inplace=True, drop=True)\n",
    "\n",
    "\n",
    "# conds_MT = ['TL3_'+str(t)+'m' for t in time0]\n",
    "# TC_MT_obs = TC_MT[TC_MT['Status']=='Ok']\n",
    "# TC_MT_obs = TC_MT_obs[TC_MT_obs['Condition'].isin(conds_MT)]\n",
    "# time_measured_MT = [t.replace('TL3_','') for t in TC_MT_obs['Condition']]\n",
    "# time_measured_MT = pd.Series([t.replace('m','') for t in time_measured_MT])\n",
    "# TC_MT_obs = TC_MT_obs['conv_new']\n",
    "# TC_MT_obs.reset_index(inplace=True, drop=True)\n"
   ]
  },
  {
   "cell_type": "code",
   "execution_count": 68,
   "metadata": {},
   "outputs": [
    {
     "data": {
      "text/plain": [
       "0    0.026067\n",
       "1    0.030324\n",
       "2    0.030753\n",
       "3    0.032610\n",
       "4    0.033186\n",
       "5    0.033902\n",
       "Name: conv_new, dtype: float64"
      ]
     },
     "execution_count": 68,
     "metadata": {},
     "output_type": "execute_result"
    }
   ],
   "source": [
    "TC_all_obs"
   ]
  },
  {
   "cell_type": "code",
   "execution_count": 69,
   "metadata": {},
   "outputs": [
    {
     "data": {
      "text/plain": [
       "Series([], Name: conv_new, dtype: float64)"
      ]
     },
     "execution_count": 69,
     "metadata": {},
     "output_type": "execute_result"
    }
   ],
   "source": [
    "TC_MT_obs"
   ]
  },
  {
   "cell_type": "code",
   "execution_count": 70,
   "metadata": {},
   "outputs": [
    {
     "data": {
      "text/plain": [
       "0     30.0\n",
       "1     45.0\n",
       "2     60.0\n",
       "3     90.0\n",
       "4    120.0\n",
       "5    240.0\n",
       "dtype: float64"
      ]
     },
     "execution_count": 70,
     "metadata": {},
     "output_type": "execute_result"
    }
   ],
   "source": [
    "time_measured_all"
   ]
  },
  {
   "cell_type": "markdown",
   "metadata": {},
   "source": [
    "### Fitting\n",
    "\n",
    "references:  \n",
    "scipy.optimize.least_squares https://docs.scipy.org/doc/scipy/reference/generated/scipy.optimize.least_squares.html\n",
    "\n",
    "tutorial robust nonlinear regression:\n",
    "https://scipy-cookbook.readthedocs.io/items/robust_regression.html"
   ]
  },
  {
   "cell_type": "code",
   "execution_count": 71,
   "metadata": {},
   "outputs": [
    {
     "data": {
      "text/plain": [
       "array([0.5 , 0.25])"
      ]
     },
     "execution_count": 71,
     "metadata": {},
     "output_type": "execute_result"
    }
   ],
   "source": [
    "N_para = 2 #kin and kout\n",
    "eps = 1e-16\n",
    "k_bounds = (np.zeros(N_para)+eps,np.asarray([np.inf for i in range(N_para)]))\n",
    "# k0 = np.ones(N_para)\n",
    "Tin = 2\n",
    "Tout = 4\n",
    "\n",
    "k0 = np.asarray([1.0/Tin, 1.0/Tout]) \n",
    "k0"
   ]
  },
  {
   "cell_type": "markdown",
   "metadata": {},
   "source": [
    "### Fitting toy model: no 4sU dynamics"
   ]
  },
  {
   "cell_type": "code",
   "execution_count": 72,
   "metadata": {
    "scrolled": true
   },
   "outputs": [],
   "source": [
    "k_all = least_squares(aic.calc_rss, \n",
    "                      k0, \n",
    "                      args=(ntr.TCconv, time_measured_all, TC_all_obs),\n",
    "                      bounds=k_bounds,\n",
    "                      gtol=1e-14,\n",
    "                      ftol=1e-14,\n",
    "                      method='dogbox',\n",
    "                      loss='soft_l1')#'linear')#'arctan')##does not matter much: 'linear' is simplest  \n",
    "\n",
    "#no MT data has status Ok\n",
    "# k_MT = least_squares(aic.calc_rss, \n",
    "#                      k0, \n",
    "#                      args=(ntr.TCconv, time_measured_MT, TC_MT_obs),\n",
    "#                      bounds=k_bounds,\n",
    "#                      gtol=1e-14,\n",
    "#                      ftol=1e-14,\n",
    "#                      method='dogbox',\n",
    "#                      loss='linear')#'arctan')#'soft_l1')#"
   ]
  },
  {
   "cell_type": "code",
   "execution_count": 75,
   "metadata": {},
   "outputs": [
    {
     "name": "stdout",
     "output_type": "stream",
     "text": [
      "[0.00467671 0.13215693]\n"
     ]
    }
   ],
   "source": [
    "# print(k0)\n",
    "print(k_all.x)\n",
    "# print(k_MT.x)"
   ]
  },
  {
   "cell_type": "code",
   "execution_count": 76,
   "metadata": {},
   "outputs": [
    {
     "name": "stdout",
     "output_type": "stream",
     "text": [
      "[213.82568269   7.56676177]\n"
     ]
    }
   ],
   "source": [
    "# print(1/k0)\n",
    "print(1/k_all.x)\n",
    "# print(1/k_MT.x)"
   ]
  },
  {
   "cell_type": "code",
   "execution_count": 77,
   "metadata": {},
   "outputs": [
    {
     "name": "stdout",
     "output_type": "stream",
     "text": [
      "6.421917939647415e-07\n"
     ]
    }
   ],
   "source": [
    "print(k_all.cost)\n",
    "# print(k_MT.cost)"
   ]
  },
  {
   "cell_type": "code",
   "execution_count": 78,
   "metadata": {},
   "outputs": [
    {
     "name": "stdout",
     "output_type": "stream",
     "text": [
      "0.0353875253510586\n"
     ]
    }
   ],
   "source": [
    "print(k_all.x[0]/k_all.x[1])#ratio of kin/kout: the eventual TC conversion rate\n",
    "# print(k_MT.x[0]/k_MT.x[1])"
   ]
  },
  {
   "cell_type": "markdown",
   "metadata": {},
   "source": [
    "### Visualization of fits\n",
    "units: minutes"
   ]
  },
  {
   "cell_type": "code",
   "execution_count": 79,
   "metadata": {},
   "outputs": [],
   "source": [
    "T_max = 300\n",
    "time_all = pd.Series(range(0, T_max)) #for plotting continuous curves\n",
    "\n",
    "conds_all2 = ['TL3_'+str(t)+'m' for t in time0]\n",
    "TC_all_obs2 = TC_all[TC_all['Condition'].isin(conds_all2)]['conv_new']\n",
    "TC_all_obs2.reset_index(inplace=True, drop=True)\n",
    "# conds_MT2 = ['Timelapse_'+str(t)+'m_CAL' for t in time_pred]\n",
    "# TC_MT_obs2 = TC_MT[TC_MT['Condition'].isin(conds_MT2)]['conv_new']\n",
    "# TC_MT_obs2.reset_index(inplace=True, drop=True)\n",
    "\n",
    "TC_all_pred = ntr.TCconv(k_all.x, time0)\n",
    "TC_all_pred_all = ntr.TCconv(k_all.x, time_all)\n",
    "# TC_MT_pred = ntr.TCconv(k_MT.x, time_pred)\n",
    "# TC_MT_pred_all = ntr.TCconv(k_MT.x, time_all)"
   ]
  },
  {
   "cell_type": "code",
   "execution_count": 100,
   "metadata": {},
   "outputs": [
    {
     "data": {
      "text/plain": [
       "<matplotlib.legend.Legend at 0x7f2da4918cd0>"
      ]
     },
     "execution_count": 100,
     "metadata": {},
     "output_type": "execute_result"
    },
    {
     "data": {
      "image/png": "[encoded data removed]",
      "text/plain": [
       "<Figure size 720x432 with 1 Axes>"
      ]
     },
     "metadata": {},
     "output_type": "display_data"
    }
   ],
   "source": [
    "sns.set(style=\"whitegrid\", color_codes=True,font_scale=1.2)\n",
    "f, ax = plt.subplots(figsize=(10, 6))          \n",
    "\n",
    "\n",
    "ax.errorbar(x=time0, y=TC_all_pred, \n",
    "            fmt='o', ms=5,color='b')\n",
    "# ax.errorbar(x=time0, y=TC_MT_pred, \n",
    "#             fmt='o', ms=5,color='red') \n",
    "ax.errorbar(x=time0, y=TC_all_obs2, \n",
    "            fmt='o', ms=5,color='k') \n",
    "# ax.errorbar(x=time0, y=TC_MT_obs2, \n",
    "#             fmt='--o', ms=5,color='k') \n",
    "ax.errorbar(x=time_all, y=TC_all_pred_all, color='b',alpha=0.5) \n",
    "# ax.errorbar(x=time_all, y=TC_MT_pred_all, color='red',alpha=0.5)\n",
    "\n",
    "\n",
    "time_plot = [0]\n",
    "time_plot.extend(list(time0))\n",
    "plt.xticks(time_plot)\n",
    "plt.yticks([i*0.01 for i in range(21)])\n",
    "plt.xlim([-10,T_max])\n",
    "plt.ylim([0,1.2*max(TC_all_obs2)])\n",
    "plt.xlabel('Time (mins)')\n",
    "plt.ylabel('TC conversion (conv_new)')\n",
    "ax.legend(['model all',\n",
    "#            'model MT',\n",
    "           'measured all'],\n",
    "#            'measured MT'],\n",
    "          loc='center left', bbox_to_anchor=(1, 0.3))\n",
    "# plt.title(gene)\n",
    "# ax.set(xscale=\"log\")\n",
    "# ax.set(yscale=\"log\") "
   ]
  },
  {
   "cell_type": "code",
   "execution_count": null,
   "metadata": {},
   "outputs": [],
   "source": []
  },
  {
   "cell_type": "markdown",
   "metadata": {},
   "source": [
    "### Output results to file"
   ]
  },
  {
   "cell_type": "code",
   "execution_count": 98,
   "metadata": {},
   "outputs": [
    {
     "data": {
      "text/html": [
       "<div>\n",
       "<style scoped>\n",
       "    .dataframe tbody tr th:only-of-type {\n",
       "        vertical-align: middle;\n",
       "    }\n",
       "\n",
       "    .dataframe tbody tr th {\n",
       "        vertical-align: top;\n",
       "    }\n",
       "\n",
       "    .dataframe thead th {\n",
       "        text-align: right;\n",
       "    }\n",
       "</style>\n",
       "<table border=\"1\" class=\"dataframe\">\n",
       "  <thead>\n",
       "    <tr style=\"text-align: right;\">\n",
       "      <th></th>\n",
       "      <th>time</th>\n",
       "      <th>conv_new_pred_all</th>\n",
       "    </tr>\n",
       "  </thead>\n",
       "  <tbody>\n",
       "    <tr>\n",
       "      <th>0</th>\n",
       "      <td>7</td>\n",
       "      <td>0.012302</td>\n",
       "    </tr>\n",
       "    <tr>\n",
       "      <th>1</th>\n",
       "      <td>15</td>\n",
       "      <td>0.019995</td>\n",
       "    </tr>\n",
       "    <tr>\n",
       "      <th>2</th>\n",
       "      <td>30</td>\n",
       "      <td>0.026631</td>\n",
       "    </tr>\n",
       "    <tr>\n",
       "      <th>3</th>\n",
       "      <td>45</td>\n",
       "      <td>0.029453</td>\n",
       "    </tr>\n",
       "    <tr>\n",
       "      <th>4</th>\n",
       "      <td>60</td>\n",
       "      <td>0.030926</td>\n",
       "    </tr>\n",
       "    <tr>\n",
       "      <th>5</th>\n",
       "      <td>90</td>\n",
       "      <td>0.032412</td>\n",
       "    </tr>\n",
       "    <tr>\n",
       "      <th>6</th>\n",
       "      <td>120</td>\n",
       "      <td>0.033156</td>\n",
       "    </tr>\n",
       "    <tr>\n",
       "      <th>7</th>\n",
       "      <td>240</td>\n",
       "      <td>0.034272</td>\n",
       "    </tr>\n",
       "  </tbody>\n",
       "</table>\n",
       "</div>"
      ],
      "text/plain": [
       "   time  conv_new_pred_all\n",
       "0     7           0.012302\n",
       "1    15           0.019995\n",
       "2    30           0.026631\n",
       "3    45           0.029453\n",
       "4    60           0.030926\n",
       "5    90           0.032412\n",
       "6   120           0.033156\n",
       "7   240           0.034272"
      ]
     },
     "execution_count": 98,
     "metadata": {},
     "output_type": "execute_result"
    }
   ],
   "source": [
    "output = pd.DataFrame()\n",
    "output['time'] = time0\n",
    "output['conv_new_pred_all'] = TC_all_pred\n",
    "# output['conv_new_pred_MT'] = TC_MT_pred\n",
    "output"
   ]
  },
  {
   "cell_type": "code",
   "execution_count": 99,
   "metadata": {},
   "outputs": [],
   "source": [
    "path = os.path.join('/n','groups','churchman','mc348','TimelapseSeq','Hela_2020_09',\n",
    "                    'GS_TL3_MMinformed4_lenient_modeAll')\n",
    "filename = 'TL3_MMinformed4_lenient_modeAll.binomEstimated_TCpredictions.tsv'\n",
    "output.to_csv(os.path.join(path,filename), sep='\\t',index=False)\n",
    " "
   ]
  },
  {
   "cell_type": "code",
   "execution_count": null,
   "metadata": {},
   "outputs": [],
   "source": []
  },
  {
   "cell_type": "code",
   "execution_count": null,
   "metadata": {},
   "outputs": [],
   "source": []
  },
  {
   "cell_type": "code",
   "execution_count": null,
   "metadata": {},
   "outputs": [],
   "source": []
  },
  {
   "cell_type": "code",
   "execution_count": null,
   "metadata": {},
   "outputs": [],
   "source": []
  },
  {
   "cell_type": "code",
   "execution_count": null,
   "metadata": {},
   "outputs": [],
   "source": []
  },
  {
   "cell_type": "code",
   "execution_count": null,
   "metadata": {},
   "outputs": [],
   "source": []
  },
  {
   "cell_type": "code",
   "execution_count": null,
   "metadata": {},
   "outputs": [],
   "source": []
  },
  {
   "cell_type": "code",
   "execution_count": null,
   "metadata": {},
   "outputs": [],
   "source": []
  },
  {
   "cell_type": "code",
   "execution_count": null,
   "metadata": {},
   "outputs": [],
   "source": []
  },
  {
   "cell_type": "code",
   "execution_count": null,
   "metadata": {},
   "outputs": [],
   "source": []
  },
  {
   "cell_type": "code",
   "execution_count": null,
   "metadata": {},
   "outputs": [],
   "source": []
  },
  {
   "cell_type": "code",
   "execution_count": null,
   "metadata": {},
   "outputs": [],
   "source": []
  },
  {
   "cell_type": "code",
   "execution_count": null,
   "metadata": {},
   "outputs": [],
   "source": []
  },
  {
   "cell_type": "markdown",
   "metadata": {},
   "source": [
    "# OLD scraps"
   ]
  },
  {
   "cell_type": "markdown",
   "metadata": {},
   "source": [
    "Adjusted example from Pytorch tutorial: `neural_networks_tutorial.ipynb` from source\n",
    "`https://pytorch.org/tutorials/beginner/blitz/neural_networks_tutorial.html#sphx-glr-beginner-blitz-neural-networks-tutorial-py`"
   ]
  },
  {
   "cell_type": "markdown",
   "metadata": {},
   "source": [
    "Example of linear regression with Pytorch:\n",
    "    https://towardsdatascience.com/linear-regression-with-pytorch-eb6dedead817"
   ]
  }
 ],
 "metadata": {
  "kernelspec": {
   "display_name": "Python 3",
   "language": "python",
   "name": "python3"
  },
  "language_info": {
   "codemirror_mode": {
    "name": "ipython",
    "version": 3
   },
   "file_extension": ".py",
   "mimetype": "text/x-python",
   "name": "python",
   "nbconvert_exporter": "python",
   "pygments_lexer": "ipython3",
   "version": "3.7.4"
  }
 },
 "nbformat": 4,
 "nbformat_minor": 2
}
