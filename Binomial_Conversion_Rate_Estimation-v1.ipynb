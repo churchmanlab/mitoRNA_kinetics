{
 "cells": [
  {
   "cell_type": "code",
   "execution_count": 581,
   "metadata": {},
   "outputs": [],
   "source": [
    "import csv \n",
    "import pandas as pd\n",
    "import numpy as np\n",
    "import scipy.stats as stats\n",
    "from scipy.stats import binom\n",
    "from scipy.optimize import least_squares\n",
    "import matplotlib.pyplot as plt\n",
    "from math import factorial as fac\n",
    "from lmfit import minimize, Parameters, fit_report\n",
    "\n",
    "import matplotlib.pyplot as plot\n",
    "import matplotlib.patches as mpatches"
   ]
  },
  {
   "cell_type": "code",
   "execution_count": 582,
   "metadata": {},
   "outputs": [],
   "source": [
    "df = pd.read_csv('TL3_t5MTMMinformed6_noRem_withDups_frag_MTnorRNA_TcountANDTCconv_TL3_0m_MT.txt', sep='\\t',header=(0)) \n"
   ]
  },
  {
   "cell_type": "code",
   "execution_count": 583,
   "metadata": {},
   "outputs": [],
   "source": [
    "n=len(df['Tcount'])\n",
    "k=len(df.columns)\n",
    "data=np.zeros((n,k-1))\n",
    "\n",
    "for n in range(len(df['Tcount'])):\n",
    "      for k in range(1,len(df.columns)):\n",
    "        data[n,k-1]= df.iloc[n,k]"
   ]
  },
  {
   "cell_type": "code",
   "execution_count": 584,
   "metadata": {},
   "outputs": [],
   "source": [
    "def input_TC(params):\n",
    "    pe1 = params['Error_1']\n",
    "    \n",
    "    n=len(df['Tcount'])\n",
    "    k=len(df.columns)\n",
    "    model_res=np.zeros((n,k-1))\n",
    "    \n",
    "    def gs_func(x,y):\n",
    "        return binom.pmf(y,x,pe1)\n",
    "    \n",
    "    for x in range(1,len(df['Tcount'])):\n",
    "        for y in range(len(df.columns)-1):\n",
    "            if x>=y:\n",
    "                model_res[x-1,y]= gs_func(x,y)\n",
    "                model_res[x-1,y] = model_res[x-1,y] * sum(data[x-1,])\n",
    "                   \n",
    "    return model_res\n",
    "\n",
    "\n",
    "params = Parameters()\n",
    "params.add('Error_1', value=0.00005, min=0, max=1)\n",
    "\n",
    "def Two_TC_background(params):\n",
    "    pe1 = params['Error_1']\n",
    "    pe2 = params['Error_2']\n",
    "    pi = params['frac_err']\n",
    "    \n",
    "    n=len(df['Tcount'])\n",
    "    k=len(df.columns)\n",
    "    model_Two=np.zeros((n,k-1))\n",
    "    \n",
    "    def gs_func(x,y):\n",
    "        return pi*(binom.pmf(y,x,pe1)) + (1-pi)*(binom.pmf(y,x,pe2))\n",
    "    \n",
    "    for x in range(1,len(df['Tcount'])):\n",
    "        for y in range(len(df.columns)-1):\n",
    "            if x>=y:\n",
    "                model_Two[x-1,y] = gs_func(x,y) * sum(data[x-1,])\n",
    "\n",
    "    return model_Two"
   ]
  },
  {
   "cell_type": "code",
   "execution_count": 585,
   "metadata": {},
   "outputs": [
    {
     "data": {
      "text/html": [
       "<h2>Fit Statistics</h2><table><tr><td>fitting method</td><td>leastsq</td><td></td></tr><tr><td># function evals</td><td>12</td><td></td></tr><tr><td># data points</td><td>575</td><td></td></tr><tr><td># variables</td><td>1</td><td></td></tr><tr><td>chi-square</td><td> 17706.1285</td><td></td></tr><tr><td>reduced chi-square</td><td> 30.8469137</td><td></td></tr><tr><td>Akaike info crit.</td><td> 1972.69523</td><td></td></tr><tr><td>Bayesian info crit.</td><td> 1977.04960</td><td></td></tr></table><h2>Variables</h2><table><tr><th> name </th><th> value </th><th> standard error </th><th> relative error </th><th> initial value </th><th> min </th><th> max </th><th> vary </th></tr><tr><td> Error_1 </td><td>  6.3215e-04 </td><td>  4.2178e-06 </td><td> (0.67%) </td><td> 0.0001 </td><td>  0.00000000 </td><td>  1.00000000 </td><td> True </td></tr></table>"
      ],
      "text/plain": [
       "<lmfit.minimizer.MinimizerResult at 0x7fd07d22e190>"
      ]
     },
     "execution_count": 585,
     "metadata": {},
     "output_type": "execute_result"
    }
   ],
   "source": [
    "params = Parameters()\n",
    "params.add('Error_1', value=0.0001, min=0, max=1)\n",
    "\n",
    "\n",
    "def residual_TC1(params):\n",
    "    return np.concatenate((input_TC(params) - (data)), axis=None)\n",
    "\n",
    "out1 = minimize(residual_TC1, params, method='leastsquare')\n",
    "out1"
   ]
  },
  {
   "cell_type": "code",
   "execution_count": 586,
   "metadata": {},
   "outputs": [
    {
     "data": {
      "text/html": [
       "<h2>Fit Statistics</h2><table><tr><td>fitting method</td><td>leastsq</td><td></td></tr><tr><td># function evals</td><td>70</td><td></td></tr><tr><td># data points</td><td>575</td><td></td></tr><tr><td># variables</td><td>3</td><td></td></tr><tr><td>chi-square</td><td> 16745.9908</td><td></td></tr><tr><td>reduced chi-square</td><td> 29.2762077</td><td></td></tr><tr><td>Akaike info crit.</td><td> 1944.63786</td><td></td></tr><tr><td>Bayesian info crit.</td><td> 1957.70097</td><td></td></tr></table><h2>Variables</h2><table><tr><th> name </th><th> value </th><th> standard error </th><th> relative error </th><th> initial value </th><th> min </th><th> max </th><th> vary </th></tr><tr><td> Error_1 </td><td>  0.04152523 </td><td>  0.01578562 </td><td> (38.01%) </td><td> 0.01 </td><td>  0.00000000 </td><td>  1.00000000 </td><td> True </td></tr><tr><td> Error_2 </td><td>  5.9564e-04 </td><td>  1.2782e-05 </td><td> (2.15%) </td><td> 0.0001 </td><td>  0.00000000 </td><td>  1.00000000 </td><td> True </td></tr><tr><td> frac_err </td><td>  0.00265811 </td><td>  9.8421e-04 </td><td> (37.03%) </td><td> 0.05 </td><td>  0.00000000 </td><td>  1.00000000 </td><td> True </td></tr></table><h2>Correlations (unreported correlations are < 0.100)</h2><table><tr><td>Error_2</td><td>frac_err</td><td>-0.9449</td></tr><tr><td>Error_1</td><td>frac_err</td><td>-0.8819</td></tr><tr><td>Error_1</td><td>Error_2</td><td>0.8046</td></tr></table>"
      ],
      "text/plain": [
       "<lmfit.minimizer.MinimizerResult at 0x7fd07d225ee0>"
      ]
     },
     "execution_count": 586,
     "metadata": {},
     "output_type": "execute_result"
    }
   ],
   "source": [
    "params = Parameters()\n",
    "params.add('Error_1', value=0.01, min=0, max=1)\n",
    "params.add('Error_2', value=0.0001, min=0, max=1)\n",
    "params.add('frac_err', value=0.05, min=0, max=1)\n",
    "\n",
    "def residual_TC2(params):\n",
    "    return np.concatenate((Two_TC_background(params) - (data)), axis=None)\n",
    "\n",
    "out2 = minimize(residual_TC2, params, method='leastsquare')\n",
    "out2"
   ]
  },
  {
   "cell_type": "code",
   "execution_count": 587,
   "metadata": {},
   "outputs": [
    {
     "name": "stdout",
     "output_type": "stream",
     "text": [
      "-28.057368904843543 0.0\n"
     ]
    },
    {
     "data": {
      "text/plain": [
       "[8.080149626730492e-07, 0.9999991919850374]"
      ]
     },
     "execution_count": 587,
     "metadata": {},
     "output_type": "execute_result"
    }
   ],
   "source": [
    "def _aic1(n,k,rss):\n",
    "    \"\"\"first equation on page e7 of McShane et al\n",
    "       k : number of parameters in model\"\"\"\n",
    "    aic = 2.0*k + n*np.log(rss/n)\n",
    "    return aic\n",
    "\n",
    "#+ 2.0*k*(k+1)/(n-k-1) (As I was reading AIC under the Framework of Least Squares Estimation, it suggests to use this \n",
    "#correction parameter when n/K < 40 , so Iw asnt sure.Also suggests different AIC models for OLS optimization )\n",
    " \n",
    "def calc_aic(n, rss1, rss2,k1,k2):\n",
    "    \"\"\"Calculate Akaike Information Criterium (AIC)\n",
    "       from residuals for 1 and 2 state models\n",
    "       n : number of data points\n",
    "       rss1 : residual sum of squares of model 1\n",
    "       rss2 : as rss1 for model 2\n",
    "       k1 : number of free parameters of model 1\n",
    "       k2 : as k1 for model 2\n",
    "       \"\"\"\n",
    "    aic1 = _aic1(n, k1, rss1) \n",
    "    aic2 = _aic1(n, k2, rss2)\n",
    "    aic_min = min(aic1, aic2)\n",
    "    sum_of_probs = np.exp((aic_min - aic1) / 2) + np.exp((aic_min - aic2) / 2)\n",
    "    prob_aic1 = np.exp((aic_min - aic1) / 2) / sum_of_probs\n",
    "    prob_aic2 = np.exp((aic_min - aic2) / 2) / sum_of_probs\n",
    "    \n",
    "    print((aic_min - aic1), (aic_min - aic2))\n",
    "    \n",
    "    return [prob_aic1, prob_aic2]\n",
    "\n",
    "calc_aic(out1.ndata,out1.chisqr,out2.chisqr,out1.nvarys,out2.nvarys)"
   ]
  },
  {
   "cell_type": "code",
   "execution_count": 588,
   "metadata": {},
   "outputs": [
    {
     "data": {
      "text/html": [
       "<div>\n",
       "<style scoped>\n",
       "    .dataframe tbody tr th:only-of-type {\n",
       "        vertical-align: middle;\n",
       "    }\n",
       "\n",
       "    .dataframe tbody tr th {\n",
       "        vertical-align: top;\n",
       "    }\n",
       "\n",
       "    .dataframe thead th {\n",
       "        text-align: right;\n",
       "    }\n",
       "</style>\n",
       "<table border=\"1\" class=\"dataframe\">\n",
       "  <thead>\n",
       "    <tr style=\"text-align: right;\">\n",
       "      <th></th>\n",
       "      <th>Tcount</th>\n",
       "      <th>0</th>\n",
       "      <th>1</th>\n",
       "      <th>2</th>\n",
       "      <th>3</th>\n",
       "      <th>4</th>\n",
       "      <th>5</th>\n",
       "      <th>6</th>\n",
       "    </tr>\n",
       "  </thead>\n",
       "  <tbody>\n",
       "    <tr>\n",
       "      <th>0</th>\n",
       "      <td>1</td>\n",
       "      <td>17</td>\n",
       "      <td>0</td>\n",
       "      <td>0</td>\n",
       "      <td>0</td>\n",
       "      <td>0</td>\n",
       "      <td>0</td>\n",
       "      <td>0</td>\n",
       "    </tr>\n",
       "    <tr>\n",
       "      <th>1</th>\n",
       "      <td>2</td>\n",
       "      <td>36</td>\n",
       "      <td>0</td>\n",
       "      <td>0</td>\n",
       "      <td>0</td>\n",
       "      <td>0</td>\n",
       "      <td>0</td>\n",
       "      <td>0</td>\n",
       "    </tr>\n",
       "    <tr>\n",
       "      <th>2</th>\n",
       "      <td>3</td>\n",
       "      <td>97</td>\n",
       "      <td>0</td>\n",
       "      <td>0</td>\n",
       "      <td>0</td>\n",
       "      <td>0</td>\n",
       "      <td>0</td>\n",
       "      <td>0</td>\n",
       "    </tr>\n",
       "    <tr>\n",
       "      <th>3</th>\n",
       "      <td>4</td>\n",
       "      <td>123</td>\n",
       "      <td>1</td>\n",
       "      <td>0</td>\n",
       "      <td>0</td>\n",
       "      <td>0</td>\n",
       "      <td>0</td>\n",
       "      <td>0</td>\n",
       "    </tr>\n",
       "    <tr>\n",
       "      <th>4</th>\n",
       "      <td>5</td>\n",
       "      <td>244</td>\n",
       "      <td>1</td>\n",
       "      <td>0</td>\n",
       "      <td>0</td>\n",
       "      <td>0</td>\n",
       "      <td>0</td>\n",
       "      <td>0</td>\n",
       "    </tr>\n",
       "    <tr>\n",
       "      <th>...</th>\n",
       "      <td>...</td>\n",
       "      <td>...</td>\n",
       "      <td>...</td>\n",
       "      <td>...</td>\n",
       "      <td>...</td>\n",
       "      <td>...</td>\n",
       "      <td>...</td>\n",
       "      <td>...</td>\n",
       "    </tr>\n",
       "    <tr>\n",
       "      <th>119</th>\n",
       "      <td>120</td>\n",
       "      <td>0</td>\n",
       "      <td>1</td>\n",
       "      <td>0</td>\n",
       "      <td>0</td>\n",
       "      <td>0</td>\n",
       "      <td>0</td>\n",
       "      <td>0</td>\n",
       "    </tr>\n",
       "    <tr>\n",
       "      <th>120</th>\n",
       "      <td>121</td>\n",
       "      <td>1</td>\n",
       "      <td>1</td>\n",
       "      <td>0</td>\n",
       "      <td>0</td>\n",
       "      <td>0</td>\n",
       "      <td>0</td>\n",
       "      <td>0</td>\n",
       "    </tr>\n",
       "    <tr>\n",
       "      <th>121</th>\n",
       "      <td>122</td>\n",
       "      <td>0</td>\n",
       "      <td>0</td>\n",
       "      <td>1</td>\n",
       "      <td>0</td>\n",
       "      <td>0</td>\n",
       "      <td>0</td>\n",
       "      <td>0</td>\n",
       "    </tr>\n",
       "    <tr>\n",
       "      <th>122</th>\n",
       "      <td>129</td>\n",
       "      <td>2</td>\n",
       "      <td>0</td>\n",
       "      <td>0</td>\n",
       "      <td>0</td>\n",
       "      <td>0</td>\n",
       "      <td>0</td>\n",
       "      <td>0</td>\n",
       "    </tr>\n",
       "    <tr>\n",
       "      <th>123</th>\n",
       "      <td>130</td>\n",
       "      <td>0</td>\n",
       "      <td>1</td>\n",
       "      <td>0</td>\n",
       "      <td>0</td>\n",
       "      <td>0</td>\n",
       "      <td>0</td>\n",
       "      <td>0</td>\n",
       "    </tr>\n",
       "  </tbody>\n",
       "</table>\n",
       "<p>124 rows × 8 columns</p>\n",
       "</div>"
      ],
      "text/plain": [
       "     Tcount    0  1  2  3  4  5  6\n",
       "0         1   17  0  0  0  0  0  0\n",
       "1         2   36  0  0  0  0  0  0\n",
       "2         3   97  0  0  0  0  0  0\n",
       "3         4  123  1  0  0  0  0  0\n",
       "4         5  244  1  0  0  0  0  0\n",
       "..      ...  ... .. .. .. .. .. ..\n",
       "119     120    0  1  0  0  0  0  0\n",
       "120     121    1  1  0  0  0  0  0\n",
       "121     122    0  0  1  0  0  0  0\n",
       "122     129    2  0  0  0  0  0  0\n",
       "123     130    0  1  0  0  0  0  0\n",
       "\n",
       "[124 rows x 8 columns]"
      ]
     },
     "execution_count": 588,
     "metadata": {},
     "output_type": "execute_result"
    }
   ],
   "source": [
    "df_Raw = pd.read_csv('TL3_t5MTMMinformed6_noRem_withDups_frag_MTnorRNA_TcountANDTCconv_TL3_60m_MT.txt',sep='\\t',header=(0)) \n",
    "df_Raw"
   ]
  },
  {
   "cell_type": "code",
   "execution_count": 589,
   "metadata": {},
   "outputs": [],
   "source": [
    "n=len(df_Raw['Tcount'])\n",
    "k=len(df_Raw.columns)\n",
    "Raw=np.zeros((n,k-1))\n",
    "\n",
    "for x in range(0,len(df_Raw['Tcount'])):\n",
    "      for y in range(0,len(df_Raw.columns)):\n",
    "        Raw[x,y-1]= df_Raw.iloc[x,y]"
   ]
  },
  {
   "cell_type": "code",
   "execution_count": 590,
   "metadata": {},
   "outputs": [],
   "source": [
    "def Two_TC(params):\n",
    "    pc = params['TC']\n",
    "    pe1 = 0.01725247\n",
    "    pe2 = 5.7625e-04\n",
    "    pi_err = 0.00409338\n",
    "    pi = params['frac']\n",
    "    \n",
    "    n=len(df_Raw['Tcount'])\n",
    "    k=len(df_Raw.columns)\n",
    "    model_Two=np.zeros((n,k-1))\n",
    "    \n",
    "    def gs_func(x,y):\n",
    "        return pi*(binom.pmf(y,x,pc)) + (1-pi)*(pi_err*binom.pmf(y,x,pe1)+(1-pi_err)*binom.pmf(y,x,pe2))\n",
    "    \n",
    "    for x in range(1,len(df_Raw['Tcount'])):\n",
    "        for y in range(len(df_Raw.columns)-1):\n",
    "            if x>=y:\n",
    "                model_Two[x-1,y] = gs_func(x,y) * sum(Raw[x-1,])\n",
    "\n",
    "    return model_Two\n",
    "\n",
    "\n",
    "params = Parameters()\n",
    "params.add('TC', value=0.001, min=0, max=1)\n",
    "params.add('frac', value=0.01, min=0, max=1)"
   ]
  },
  {
   "cell_type": "code",
   "execution_count": 591,
   "metadata": {},
   "outputs": [],
   "source": [
    "def Two_residual_TC(params):\n",
    "    return np.concatenate((Two_TC(params) - (Raw)), axis=None)"
   ]
  },
  {
   "cell_type": "code",
   "execution_count": 592,
   "metadata": {},
   "outputs": [
    {
     "data": {
      "text/html": [
       "<h2>Fit Statistics</h2><table><tr><td>fitting method</td><td>leastsq</td><td></td></tr><tr><td># function evals</td><td>20</td><td></td></tr><tr><td># data points</td><td>868</td><td></td></tr><tr><td># variables</td><td>2</td><td></td></tr><tr><td>chi-square</td><td> 20022071.7</td><td></td></tr><tr><td>reduced chi-square</td><td> 23120.1751</td><td></td></tr><tr><td>Akaike info crit.</td><td> 8724.06175</td><td></td></tr><tr><td>Bayesian info crit.</td><td> 8733.59413</td><td></td></tr></table><h2>Variables</h2><table><tr><th> name </th><th> value </th><th> standard error </th><th> relative error </th><th> initial value </th><th> min </th><th> max </th><th> vary </th></tr><tr><td> TC </td><td>  0.90386621 </td><td>  0.66463765 </td><td> (73.53%) </td><td> 0.001 </td><td>  0.00000000 </td><td>  1.00000000 </td><td> True </td></tr><tr><td> frac </td><td>  0.09317402 </td><td>  0.00303678 </td><td> (3.26%) </td><td> 0.01 </td><td>  0.00000000 </td><td>  1.00000000 </td><td> True </td></tr></table>"
      ],
      "text/plain": [
       "<lmfit.minimizer.MinimizerResult at 0x7fd07d22eaf0>"
      ]
     },
     "execution_count": 592,
     "metadata": {},
     "output_type": "execute_result"
    }
   ],
   "source": [
    "out2 = minimize(Two_residual_TC, params, method='leastsquare')\n",
    "out2"
   ]
  },
  {
   "cell_type": "code",
   "execution_count": null,
   "metadata": {},
   "outputs": [],
   "source": []
  }
 ],
 "metadata": {
  "kernelspec": {
   "display_name": "Python 3",
   "language": "python",
   "name": "python3"
  },
  "language_info": {
   "codemirror_mode": {
    "name": "ipython",
    "version": 3
   },
   "file_extension": ".py",
   "mimetype": "text/x-python",
   "name": "python",
   "nbconvert_exporter": "python",
   "pygments_lexer": "ipython3",
   "version": "3.8.3"
  }
 },
 "nbformat": 4,
 "nbformat_minor": 4
}
