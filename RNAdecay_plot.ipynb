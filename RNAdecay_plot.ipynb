{
 "cells": [
  {
   "cell_type": "markdown",
   "metadata": {},
   "source": [
    "## RNA decay plots\n",
    "Author: Robert Ietswaart, 20200402\n",
    "License: BSD2.  \n",
    "Load modules j3dl and activate virtual environment using j4RNAdecay on O2.\n",
    "Python v3.7.4 \n",
    "\n",
    "For Erik's project: aim is to visualize 1 and 2 state RNA decay models and provide %new.\n",
    "\n",
    "Starting point references: theory from McShane et al, Cell 2016. Sin et al, PLoS ONE, 2016."
   ]
  },
  {
   "cell_type": "code",
   "execution_count": 14,
   "metadata": {},
   "outputs": [],
   "source": [
    "import pandas as pd\n",
    "import numpy as np\n",
    "import matplotlib.pyplot as plt\n",
    "plt.rcParams['pdf.fonttype'] = 42\n",
    "plt.rcParams['ps.fonttype'] = 42\n",
    "import seaborn as sns\n",
    "\n",
    "# import os.path as osp\n",
    "# import math\n",
    "# import copy\n",
    "# import re\n",
    "# import pickle as pkl"
   ]
  },
  {
   "cell_type": "markdown",
   "metadata": {},
   "source": [
    "### Define 1 and 2 state functions"
   ]
  },
  {
   "cell_type": "code",
   "execution_count": 218,
   "metadata": {},
   "outputs": [],
   "source": [
    "def Lam1state(k,t):\n",
    "    \"\"\" Model includes 4sU dynamics: derivations by Robert Ietswaart, N6p63-80\n",
    "        t: time\n",
    "        kout: 4sU/U exchange out rate\n",
    "        kA: RNA degradation rate from state A\n",
    "    \"\"\"\n",
    "    kout = k[0]\n",
    "    kA = k[1]\n",
    "    Lambda = -kA/(kout-kA)*(1 - np.exp(-kout * t)) + \\\n",
    "              kout/(kout-kA)*(1 - np.exp(-kA * t))\n",
    "    return Lambda\n",
    "\n",
    "def Lam2state(k,t):\n",
    "    \"\"\" Model includes 4sU dynamics: derivations by Robert Ietswaart, N6p63-80\n",
    "        t: time\n",
    "        kout: 4sU/U exchange out rate\n",
    "        kA: RNA degradation rate from state A\n",
    "        kAB: transition rate from state A to state B\n",
    "        kB: RNA degradation rate from state B\n",
    "    \"\"\"\n",
    "    kout = k[0]\n",
    "    kA = k[1]\n",
    "    kAB = k[2]\n",
    "    kB = k[3]\n",
    "    Phi = kB*(kA+kAB)*(kB+kAB-kout)/((kB+kAB)*(kA+kAB-kout)*(kB-kout))\n",
    "    Psi = kB*(kA-kB)*kout/((kB+kAB)*(kout-(kA+kAB))*(kA+kAB-kB))\n",
    "    Omega = kAB*kout*(kA+kAB)/((kB+kAB)*(kA+kAB-kB)*(kout-kB))#1-Phi-Psi\n",
    "    Lambda = Phi*(1 - np.exp(-kout * t)) + \\\n",
    "             Psi*(1 - np.exp(-(kA+kAB) * t)) + \\\n",
    "             Omega*(1 - np.exp(-kB * t))\n",
    "#     print(Phi+Psi+Omega)\n",
    "    return Lambda\n",
    "\n",
    "def Lam1state_toy_model(k,t):\n",
    "    \"\"\" Model without 4sU dynamics\n",
    "        t: time\n",
    "        kA: RNA degradation rate from state A\n",
    "        Derived in Sin et al, PLoS ONE 2016\n",
    "    \"\"\"\n",
    "    kA = k[1]\n",
    "    Lambda = 1 - np.exp(-kA * t)\n",
    "    return Lambda\n",
    "\n",
    "def Lam2state_toy_model(k,t):\n",
    "    \"\"\" Model without 4sU dynamics\n",
    "        t: time\n",
    "        kA: RNA degradation rate from state A\n",
    "        kAB: transition rate from state A to state B\n",
    "        kB: RNA degradation rate from state B\n",
    "        Derived in Sin et al, PLoS ONE 2016: eq 19\n",
    "    \"\"\"\n",
    "    kA = k[1]\n",
    "    kAB = k[2]\n",
    "    kB = k[3]\n",
    "    Ap = kB*(kA-kB)\n",
    "    Bp = kAB*(kA+kAB)\n",
    "    Lambda = Ap/(Ap+Bp)*(1 - np.exp(-(kA+kAB) * t)) + \\\n",
    "             Bp/(Ap+Bp)*(1 - np.exp(-kB * t))\n",
    "    return Lambda"
   ]
  },
  {
   "cell_type": "markdown",
   "metadata": {},
   "source": [
    "### Time point definitions\n",
    "units: minutes"
   ]
  },
  {
   "cell_type": "code",
   "execution_count": 219,
   "metadata": {},
   "outputs": [],
   "source": [
    "time_measured = pd.Series([0,15,30,60,120,240]) \n",
    "T_max = 300\n",
    "time_all = pd.Series(range(0,T_max)) #for plotting continuous curves"
   ]
  },
  {
   "cell_type": "markdown",
   "metadata": {},
   "source": [
    "### Set parameters\n",
    "units: min^-1  \n",
    "k = [kout,kA,kAB,kB]  = [1/Tout, 1/TA, 1/TAB, 1/TB]  \n",
    "in 1 state model: only kout and kA are used  \n",
    "for simplicity and intuition: set the time scales (units: mins): inverse of rates "
   ]
  },
  {
   "cell_type": "code",
   "execution_count": 225,
   "metadata": {},
   "outputs": [],
   "source": [
    "Tout = 10\n",
    "\n",
    "TA1 = 3*60\n",
    "k_1state = [1.0/Tout, 1.0/TA1] \n",
    "\n",
    "TA2 = 20\n",
    "TAB = 60\n",
    "TB = 3*60\n",
    "k_2state = [1.0/Tout, 1.0/TA2, 1.0/TAB, 1.0/TB] "
   ]
  },
  {
   "cell_type": "code",
   "execution_count": 226,
   "metadata": {},
   "outputs": [],
   "source": [
    "# np.exp(-5.3*time_all)\n",
    "# 5.3*time_all\n",
    "# -k[1]/(k[0]-k[1])*(1 - np.exp(-k[0] * time_measured))"
   ]
  },
  {
   "cell_type": "markdown",
   "metadata": {},
   "source": [
    "### Calculate New to Total RNA (NTR) curves"
   ]
  },
  {
   "cell_type": "code",
   "execution_count": 227,
   "metadata": {},
   "outputs": [],
   "source": [
    "NTR1_all = Lam1state(k_1state,time_all)\n",
    "NTR1_measured = Lam1state(k_1state,time_measured)\n",
    "NTR1_toy_all = Lam1state_toy_model(k_1state,time_all)\n",
    "NTR1_toy_measured = Lam1state_toy_model(k_1state,time_measured)\n",
    "NTR2_all = Lam2state(k_2state,time_all)\n",
    "NTR2_measured = Lam2state(k_2state,time_measured)\n",
    "NTR2_toy_all = Lam2state_toy_model(k_2state,time_all)\n",
    "NTR2_toy_measured = Lam2state_toy_model(k_2state,time_measured)"
   ]
  },
  {
   "cell_type": "markdown",
   "metadata": {},
   "source": [
    "### Output fractions NTR"
   ]
  },
  {
   "cell_type": "code",
   "execution_count": 228,
   "metadata": {},
   "outputs": [
    {
     "data": {
      "text/html": [
       "<div>\n",
       "<style scoped>\n",
       "    .dataframe tbody tr th:only-of-type {\n",
       "        vertical-align: middle;\n",
       "    }\n",
       "\n",
       "    .dataframe tbody tr th {\n",
       "        vertical-align: top;\n",
       "    }\n",
       "\n",
       "    .dataframe thead th {\n",
       "        text-align: right;\n",
       "    }\n",
       "</style>\n",
       "<table border=\"1\" class=\"dataframe\">\n",
       "  <thead>\n",
       "    <tr style=\"text-align: right;\">\n",
       "      <th></th>\n",
       "      <th>time</th>\n",
       "      <th>NTR_1state</th>\n",
       "      <th>NTR_2state</th>\n",
       "    </tr>\n",
       "  </thead>\n",
       "  <tbody>\n",
       "    <tr>\n",
       "      <th>0</th>\n",
       "      <td>0</td>\n",
       "      <td>0.000000</td>\n",
       "      <td>0.000000</td>\n",
       "    </tr>\n",
       "    <tr>\n",
       "      <th>1</th>\n",
       "      <td>15</td>\n",
       "      <td>0.038961</td>\n",
       "      <td>0.094172</td>\n",
       "    </tr>\n",
       "    <tr>\n",
       "      <th>2</th>\n",
       "      <td>30</td>\n",
       "      <td>0.106654</td>\n",
       "      <td>0.213366</td>\n",
       "    </tr>\n",
       "    <tr>\n",
       "      <th>3</th>\n",
       "      <td>60</td>\n",
       "      <td>0.241466</td>\n",
       "      <td>0.370292</td>\n",
       "    </tr>\n",
       "    <tr>\n",
       "      <th>4</th>\n",
       "      <td>120</td>\n",
       "      <td>0.456382</td>\n",
       "      <td>0.555041</td>\n",
       "    </tr>\n",
       "    <tr>\n",
       "      <th>5</th>\n",
       "      <td>240</td>\n",
       "      <td>0.720897</td>\n",
       "      <td>0.771643</td>\n",
       "    </tr>\n",
       "  </tbody>\n",
       "</table>\n",
       "</div>"
      ],
      "text/plain": [
       "   time  NTR_1state  NTR_2state\n",
       "0     0    0.000000    0.000000\n",
       "1    15    0.038961    0.094172\n",
       "2    30    0.106654    0.213366\n",
       "3    60    0.241466    0.370292\n",
       "4   120    0.456382    0.555041\n",
       "5   240    0.720897    0.771643"
      ]
     },
     "execution_count": 228,
     "metadata": {},
     "output_type": "execute_result"
    }
   ],
   "source": [
    "output = pd.DataFrame()\n",
    "output['time'] = time_measured\n",
    "output['NTR_1state'] = NTR1_measured\n",
    "output['NTR_2state'] = NTR2_measured\n",
    "output"
   ]
  },
  {
   "cell_type": "markdown",
   "metadata": {},
   "source": [
    "### Visualization of models (with and w/o 4sU dynamics)"
   ]
  },
  {
   "cell_type": "code",
   "execution_count": 230,
   "metadata": {},
   "outputs": [
    {
     "data": {
      "text/plain": [
       "<matplotlib.legend.Legend at 0x7f6e44c76e50>"
      ]
     },
     "execution_count": 230,
     "metadata": {},
     "output_type": "execute_result"
    },
    {
     "data": {
      "image/png": "[encoded data removed]",
      "text/plain": [
       "<Figure size 432x432 with 1 Axes>"
      ]
     },
     "metadata": {},
     "output_type": "display_data"
    }
   ],
   "source": [
    "sns.set(style=\"whitegrid\", color_codes=True,font_scale=1.2)\n",
    "f, ax = plt.subplots(figsize=(6, 6))          \n",
    "\n",
    "ax.errorbar(x=time_all, y=NTR1_toy_all, color='c') \n",
    "ax.errorbar(x=time_all, y=NTR1_all, color='b') \n",
    "ax.errorbar(x=time_all, y=NTR2_toy_all, color='orange')\n",
    "ax.errorbar(x=time_all, y=NTR2_all, color='red') \n",
    "ax.errorbar(x=time_measured, y=NTR1_toy_measured, \n",
    "            fmt='o', ms=5,color='grey') \n",
    "ax.errorbar(x=time_measured, y=NTR1_measured, \n",
    "            fmt='o', ms=5,color='k') \n",
    "ax.errorbar(x=time_measured, y=NTR2_toy_measured, \n",
    "            fmt='o', ms=5,color='grey') \n",
    "ax.errorbar(x=time_measured, y=NTR2_measured, \n",
    "            fmt='o', ms=5,color='k') \n",
    "\n",
    "\n",
    "plt.xlim([-10,T_max])\n",
    "plt.ylim([-0.1,1.1])\n",
    "plt.xticks(time_measured)\n",
    "plt.yticks([i*0.1 for i in range(11)])\n",
    "plt.xlabel('Time (mins)')\n",
    "plt.ylabel('fraction 4sU labeled / total RNA')\n",
    "ax.legend(['1state no 4sU dynamics',\n",
    "           '1state with 4sU dynamics',\n",
    "           '2state no 4sU dynamics',\n",
    "           '2state with 4sU dynamics'],\n",
    "          loc='center left', bbox_to_anchor=(1, 0.3))\n",
    "# ax.set(xscale=\"log\")\n",
    "# ax.set(yscale=\"log\") \n"
   ]
  },
  {
   "cell_type": "code",
   "execution_count": null,
   "metadata": {},
   "outputs": [],
   "source": []
  },
  {
   "cell_type": "code",
   "execution_count": null,
   "metadata": {},
   "outputs": [],
   "source": []
  },
  {
   "cell_type": "code",
   "execution_count": null,
   "metadata": {},
   "outputs": [],
   "source": []
  },
  {
   "cell_type": "code",
   "execution_count": null,
   "metadata": {},
   "outputs": [],
   "source": []
  },
  {
   "cell_type": "code",
   "execution_count": null,
   "metadata": {},
   "outputs": [],
   "source": []
  },
  {
   "cell_type": "code",
   "execution_count": null,
   "metadata": {},
   "outputs": [],
   "source": []
  },
  {
   "cell_type": "code",
   "execution_count": null,
   "metadata": {},
   "outputs": [],
   "source": []
  },
  {
   "cell_type": "code",
   "execution_count": null,
   "metadata": {},
   "outputs": [],
   "source": []
  },
  {
   "cell_type": "code",
   "execution_count": null,
   "metadata": {},
   "outputs": [],
   "source": []
  },
  {
   "cell_type": "code",
   "execution_count": null,
   "metadata": {},
   "outputs": [],
   "source": []
  },
  {
   "cell_type": "code",
   "execution_count": null,
   "metadata": {},
   "outputs": [],
   "source": []
  },
  {
   "cell_type": "code",
   "execution_count": null,
   "metadata": {},
   "outputs": [],
   "source": []
  },
  {
   "cell_type": "markdown",
   "metadata": {},
   "source": [
    "# OLD scraps"
   ]
  }
 ],
 "metadata": {
  "kernelspec": {
   "display_name": "Python 3",
   "language": "python",
   "name": "python3"
  },
  "language_info": {
   "codemirror_mode": {
    "name": "ipython",
    "version": 3
   },
   "file_extension": ".py",
   "mimetype": "text/x-python",
   "name": "python",
   "nbconvert_exporter": "python",
   "pygments_lexer": "ipython3",
   "version": "3.7.4"
  }
 },
 "nbformat": 4,
 "nbformat_minor": 2
}
